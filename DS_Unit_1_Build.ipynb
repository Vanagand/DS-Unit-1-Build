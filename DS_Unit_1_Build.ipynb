{
  "nbformat": 4,
  "nbformat_minor": 0,
  "metadata": {
    "colab": {
      "name": "DS-Unit-1-Build.ipynb",
      "provenance": [],
      "collapsed_sections": [],
      "include_colab_link": true
    },
    "kernelspec": {
      "name": "python3",
      "display_name": "Python 3"
    }
  },
  "cells": [
    {
      "cell_type": "markdown",
      "metadata": {
        "id": "view-in-github",
        "colab_type": "text"
      },
      "source": [
        "<a href=\"https://colab.research.google.com/github/Vanagand/DS-Unit-1-Build/blob/master/DS_Unit_1_Build.ipynb\" target=\"_parent\"><img src=\"https://colab.research.google.com/assets/colab-badge.svg\" alt=\"Open In Colab\"/></a>"
      ]
    },
    {
      "cell_type": "markdown",
      "metadata": {
        "id": "ot_dpRoxom_0",
        "colab_type": "text"
      },
      "source": [
        "#Data Import"
      ]
    },
    {
      "cell_type": "code",
      "metadata": {
        "id": "592XcNCLISCP",
        "colab_type": "code",
        "colab": {}
      },
      "source": [
        "import pandas as pd\n",
        "import numpy as np\n",
        "import matplotlib.pyplot as plt\n",
        "import seaborn as sns\n",
        "import math\n",
        "from matplotlib.font_manager import FontProperties\n",
        "import matplotlib.lines as mlines"
      ],
      "execution_count": 0,
      "outputs": []
    },
    {
      "cell_type": "markdown",
      "metadata": {
        "id": "UNQpPG1uymSq",
        "colab_type": "text"
      },
      "source": [
        "###**Question** - Is there corrolation between the arable land area in Canada and cancer incidents rates?"
      ]
    },
    {
      "cell_type": "markdown",
      "metadata": {
        "id": "noV4cjnbsMeO",
        "colab_type": "text"
      },
      "source": [
        "## Number and Area of Census Farms - Canada and the Provinces Plot\n",
        "\n",
        "Source: Ministry of Agriculture, Food, and Rural Affairs\n",
        "\n"
      ]
    },
    {
      "cell_type": "code",
      "metadata": {
        "id": "Tcm5v382lh7E",
        "colab_type": "code",
        "outputId": "2cb992ee-f935-477e-c5d5-a90c00c15333",
        "colab": {
          "base_uri": "https://localhost:8080/",
          "height": 204
        }
      },
      "source": [
        "cdn_farm_area_df = pd.read_csv('https://github.com/Vanagand/DS-Unit-1-Build/raw/master/cdn_farm_area.csv')\n",
        "\n",
        "# .drop(['input'], axis=int, inplace=bool)\n",
        "# .reset_index()\n",
        "# .rename({'input':'output', 'input': 'output'}, axis=int)\n",
        "\n",
        "cdn_farm_area_df.head()"
      ],
      "execution_count": 6,
      "outputs": [
        {
          "output_type": "execute_result",
          "data": {
            "text/html": [
              "<div>\n",
              "<style scoped>\n",
              "    .dataframe tbody tr th:only-of-type {\n",
              "        vertical-align: middle;\n",
              "    }\n",
              "\n",
              "    .dataframe tbody tr th {\n",
              "        vertical-align: top;\n",
              "    }\n",
              "\n",
              "    .dataframe thead th {\n",
              "        text-align: right;\n",
              "    }\n",
              "</style>\n",
              "<table border=\"1\" class=\"dataframe\">\n",
              "  <thead>\n",
              "    <tr style=\"text-align: right;\">\n",
              "      <th></th>\n",
              "      <th>date</th>\n",
              "      <th>geo</th>\n",
              "      <th>val_farms</th>\n",
              "      <th>val_area</th>\n",
              "    </tr>\n",
              "  </thead>\n",
              "  <tbody>\n",
              "    <tr>\n",
              "      <th>0</th>\n",
              "      <td>1996</td>\n",
              "      <td>Newfoundland</td>\n",
              "      <td>742</td>\n",
              "      <td>108.3</td>\n",
              "    </tr>\n",
              "    <tr>\n",
              "      <th>1</th>\n",
              "      <td>2001</td>\n",
              "      <td>Newfoundland</td>\n",
              "      <td>643</td>\n",
              "      <td>100.3</td>\n",
              "    </tr>\n",
              "    <tr>\n",
              "      <th>2</th>\n",
              "      <td>2006</td>\n",
              "      <td>Newfoundland</td>\n",
              "      <td>558</td>\n",
              "      <td>89.4</td>\n",
              "    </tr>\n",
              "    <tr>\n",
              "      <th>3</th>\n",
              "      <td>2011</td>\n",
              "      <td>Newfoundland</td>\n",
              "      <td>510</td>\n",
              "      <td>77.3</td>\n",
              "    </tr>\n",
              "    <tr>\n",
              "      <th>4</th>\n",
              "      <td>2016</td>\n",
              "      <td>Newfoundland</td>\n",
              "      <td>407</td>\n",
              "      <td>70.7</td>\n",
              "    </tr>\n",
              "  </tbody>\n",
              "</table>\n",
              "</div>"
            ],
            "text/plain": [
              "   date           geo val_farms  val_area\n",
              "0  1996  Newfoundland       742     108.3\n",
              "1  2001  Newfoundland       643     100.3\n",
              "2  2006  Newfoundland       558      89.4\n",
              "3  2011  Newfoundland       510      77.3\n",
              "4  2016  Newfoundland       407      70.7"
            ]
          },
          "metadata": {
            "tags": []
          },
          "execution_count": 6
        }
      ]
    },
    {
      "cell_type": "code",
      "metadata": {
        "id": "GfNtwXWvylVh",
        "colab_type": "code",
        "outputId": "778d926f-acac-45ea-8bc4-0016f5ce5e28",
        "colab": {
          "base_uri": "https://localhost:8080/",
          "height": 425
        }
      },
      "source": [
        "def val_to_int(val_content): # val_to_int feature \n",
        "  return int(val_content)\n",
        "\n",
        "cdn_farm_condition = cdn_farm_area_df['geo'] == 'Canada'\n",
        "cdn_farm_cdn_plot = cdn_farm_area_df[cdn_farm_condition].drop(['val_farms'], axis=1)\n",
        "\n",
        "print(cdn_farm_area_df['geo'].value_counts())\n",
        "print('')\n",
        "cdn_farm_cdn_plot.head()"
      ],
      "execution_count": 7,
      "outputs": [
        {
          "output_type": "stream",
          "text": [
            "Alberta                 5\n",
            "Quebec                  5\n",
            "Newfoundland            5\n",
            "Canada                  5\n",
            "British Columbia        5\n",
            "Saskatchewan            5\n",
            "Prince Edward Island    5\n",
            "Manitoba                5\n",
            "Ontario                 5\n",
            "Nova Scotia             5\n",
            "New Brunswick           5\n",
            "Name: geo, dtype: int64\n",
            "\n"
          ],
          "name": "stdout"
        },
        {
          "output_type": "execute_result",
          "data": {
            "text/html": [
              "<div>\n",
              "<style scoped>\n",
              "    .dataframe tbody tr th:only-of-type {\n",
              "        vertical-align: middle;\n",
              "    }\n",
              "\n",
              "    .dataframe tbody tr th {\n",
              "        vertical-align: top;\n",
              "    }\n",
              "\n",
              "    .dataframe thead th {\n",
              "        text-align: right;\n",
              "    }\n",
              "</style>\n",
              "<table border=\"1\" class=\"dataframe\">\n",
              "  <thead>\n",
              "    <tr style=\"text-align: right;\">\n",
              "      <th></th>\n",
              "      <th>date</th>\n",
              "      <th>geo</th>\n",
              "      <th>val_area</th>\n",
              "    </tr>\n",
              "  </thead>\n",
              "  <tbody>\n",
              "    <tr>\n",
              "      <th>50</th>\n",
              "      <td>1996</td>\n",
              "      <td>Canada</td>\n",
              "      <td>168167.5</td>\n",
              "    </tr>\n",
              "    <tr>\n",
              "      <th>51</th>\n",
              "      <td>2001</td>\n",
              "      <td>Canada</td>\n",
              "      <td>166802.2</td>\n",
              "    </tr>\n",
              "    <tr>\n",
              "      <th>52</th>\n",
              "      <td>2006</td>\n",
              "      <td>Canada</td>\n",
              "      <td>167010.5</td>\n",
              "    </tr>\n",
              "    <tr>\n",
              "      <th>53</th>\n",
              "      <td>2011</td>\n",
              "      <td>Canada</td>\n",
              "      <td>160155.7</td>\n",
              "    </tr>\n",
              "    <tr>\n",
              "      <th>54</th>\n",
              "      <td>2016</td>\n",
              "      <td>Canada</td>\n",
              "      <td>158723.1</td>\n",
              "    </tr>\n",
              "  </tbody>\n",
              "</table>\n",
              "</div>"
            ],
            "text/plain": [
              "    date     geo  val_area\n",
              "50  1996  Canada  168167.5\n",
              "51  2001  Canada  166802.2\n",
              "52  2006  Canada  167010.5\n",
              "53  2011  Canada  160155.7\n",
              "54  2016  Canada  158723.1"
            ]
          },
          "metadata": {
            "tags": []
          },
          "execution_count": 7
        }
      ]
    },
    {
      "cell_type": "code",
      "metadata": {
        "id": "bEY7TFO_eteM",
        "colab_type": "code",
        "colab": {
          "base_uri": "https://localhost:8080/",
          "height": 34
        },
        "outputId": "8f80a8a1-b002-4e0d-b419-4ca662e7809c"
      },
      "source": [
        "# explore val_area data as a list\n",
        "cdn_wb_area_geo_condition = cdn_farm_area_df['geo'] == 'Alberta'\n",
        "wb_farm_area = cdn_farm_area_df[cdn_wb_area_geo_condition]\n",
        "\n",
        "list(wb_farm_area['val_area'])"
      ],
      "execution_count": 8,
      "outputs": [
        {
          "output_type": "execute_result",
          "data": {
            "text/plain": [
              "[51964.4, 52058.9, 52127.9, 50498.8, 50250.2]"
            ]
          },
          "metadata": {
            "tags": []
          },
          "execution_count": 8
        }
      ]
    },
    {
      "cell_type": "code",
      "metadata": {
        "id": "-DSgElXiOdBe",
        "colab_type": "code",
        "colab": {
          "base_uri": "https://localhost:8080/",
          "height": 689
        },
        "outputId": "e65601ba-1878-43e1-d8b5-6aba324c1219"
      },
      "source": [
        "fig, ax = plt.subplots(figsize=(20, 10))\n",
        "\n",
        "font = FontProperties()\n",
        "font.set_style('normal')\n",
        "\n",
        "fig.patch.set(facecolor='#F7F2EC') # background (exterior)\n",
        "ax.set(facecolor='#F7F2EC') # axes background (interior)\n",
        "\n",
        "plt.style.use('seaborn-ticks') # plot style\n",
        "\n",
        "plt.title(x=-0.05, y=1.125, label=\"Area of Census Farms, Canada and the Provinces\", \n",
        "          ha='left', fontproperties=font, weight='bold', fontsize=35, \n",
        "          color='#333333', transform=ax.transAxes)\n",
        "ax.text(x=-0.05, y=1.072, s='(thousand hectares)', \n",
        "        ha='left', weight='normal', fontsize=20, color='#333333', \n",
        "        transform=ax.transAxes)\n",
        "\n",
        "data_qc = (8540.5, 8443.7, 8557.1, 8256.6, 8103.2)\n",
        "# data_ns = (1055.9, 1005.8, 995.9, 1018.1, 915.7) omitted too small\n",
        "# data_nb = (953.9, 958.9, 976.6, 937.8, 835.3) omitted too small\n",
        "data_bc = (6249.4, 6392.9, 7006.6, 6452.9, 6400.5)\n",
        "data_on = (13879.6, 13507.4, 13310.2, 12668.2, 12348.5)\n",
        "# data_nl = (108.3, 100.3, 89.4, 77.3, 70.7) omitted too small\n",
        "data_mb = (19106.5, 18784.4, 19073.0, 18023.5, 17637.6)\n",
        "data_sk = (65653.6, 64903.8, 64253.8, 61628.1, 61585.8)\n",
        "# data_pe = (655.4, 646.1, 619.9, 594.3, 575.5) omitted too small\n",
        "data_ab = (51964.4, 52058.9, 52127.9, 50498.8, 50250.2)\n",
        "\n",
        "data = (276548, 246923, 229373, 205730, 193492)\n",
        "year = (-0.9, 0.1, 1.1, 2.1, 3.1)\n",
        "n = 5\n",
        "plot_width = np.arange(n)\n",
        "\n",
        "# custom cosmetic axvlines\n",
        "plt.plot([-0.9, -0.9], [0, 68000], marker='_', mew=2, markersize=10, \n",
        "         linewidth=2, c='#333333', zorder=1)\n",
        "plt.plot([0.1, 0.1], [0, 68000], marker='_', mew=2, markersize=10, \n",
        "         linewidth=2, c='#333333', zorder=1)\n",
        "plt.plot([1.1, 1.1], [0, 68000], marker='_', mew=2, markersize=10,\n",
        "         linewidth=2, c='#333333', zorder=1)\n",
        "plt.plot([2.1, 2.1], [0, 68000], marker='_', mew=2, markersize=10, \n",
        "         linewidth=2, c='#333333', zorder=1)\n",
        "plt.plot([3.1, 3.1], [0, 68000], marker='_', mew=2, markersize=10,\n",
        "         linewidth=2, c='#333333', zorder=1)\n",
        "\n",
        "# plotting data ordered as a line plot, scatter dots, and its province\n",
        "plt.plot(year, data_qc, linewidth=5, c='#102542', zorder=2)\n",
        "plt.scatter([-0.9, 0.1, 1.1, 2.1, 3.1], [8540.5, 8443.7, 8557.1, 8256.6, 8103.2], \n",
        "            s=200, c='#102542', zorder=2)\n",
        "ax.text(3.2, 8403.2, s='Quebec, 8103', verticalalignment='center', \n",
        "        horizontalalignment='left', size=15, weight='bold', color='#102542', zorder=2)\n",
        "\n",
        "\n",
        "plt.plot(year, data_bc, linewidth=5, c='#E09F3E', zorder=2)\n",
        "plt.scatter([-0.9, 0.1, 1.1, 2.1, 3.1], [6249.4, 6392.9, 7006.6, 6452.9, 6400.5], \n",
        "            s=200, c='#E09F3E', zorder=2)\n",
        "ax.text(3.2, 6100.5, s='British Columbia, 6400', verticalalignment='center', \n",
        "        horizontalalignment='left', size=15, weight='bold', color='#E09F3E', zorder=2)\n",
        "\n",
        "plt.plot(year, data_on, linewidth=5, c='#73937E', zorder=2)\n",
        "plt.scatter([-0.9, 0.1, 1.1, 2.1, 3.1], [13879.6, 13507.4, 13310.2, 12668.2, 12348.5], \n",
        "            s=200, c='#73937E', zorder=2)\n",
        "ax.text(3.2, 12348.5, s='Ontario, 12348', verticalalignment='center', \n",
        "        horizontalalignment='left', size=15, weight='bold', color='#73937E', zorder=2)\n",
        "\n",
        "plt.plot(year, data_mb, linewidth=5, c='#B3A394', zorder=2)\n",
        "plt.scatter([-0.9, 0.1, 1.1, 2.1, 3.1], [19106.5, 18784.4, 19073.0, 18023.5, 17637.6], \n",
        "            s=200, c='#B3A394', zorder=2)\n",
        "ax.text(3.2, 17637.6, s='Manitoba, 17637', verticalalignment='center', \n",
        "        horizontalalignment='left', size=15, weight='bold', color='#B3A394', zorder=2)\n",
        "\n",
        "plt.plot(year, data_sk, linewidth=5, c='#4D9DE0', zorder=2)\n",
        "plt.scatter([-0.9, 0.1, 1.1, 2.1, 3.1], [65653.6, 64903.8, 64253.8, 61628.1, 61585.8], \n",
        "            s=200, c='#4D9DE0', zorder=2)\n",
        "ax.text(3.2, 61585.8, s='Saskatchewan, 61585', verticalalignment='center', \n",
        "        horizontalalignment='left', size=15, weight='bold', color='#4D9DE0', zorder=2)\n",
        "\n",
        "plt.plot(year, data_ab, linewidth=5, c='#2B3A67', zorder=2)\n",
        "plt.scatter([-0.9, 0.1, 1.1, 2.1, 3.1], [51964.4, 52058.9, 52127.9, 50498.8, 50250.2], \n",
        "            s=200, c='#2B3A67', zorder=2)\n",
        "ax.text(3.2, 50250.2, s='Alberta, 50250', verticalalignment='center', \n",
        "        horizontalalignment='left', size=15, weight='bold', color='#2B3A67', zorder=2)\n",
        "\n",
        "plt.plot(year, [1000, 1000, 1000, 1000, 1000], linewidth=2.5, ls='--', c='#A30015', zorder=2)\n",
        "# plt.scatter([3.1], [1000], s=200, c='red', zorder=2)\n",
        "ax.text(3.2, 1000, s='Others, <1000', verticalalignment='center', \n",
        "        horizontalalignment='left', size=15, weight='bold', color='#A30015', zorder=2)\n",
        "\n",
        "ax.text(x=3.2, y=68000, s='TOTAL', ha='left', weight='bold', fontsize=16, color='#333333')\n",
        "ax.text(x=3.2, y=66000, s='              all \\n provinces', \n",
        "        ha='left', weight='normal', fontsize=15, color='#333333')\n",
        "ax.text(x=3.51, y=67000, s='158723', ha='left', weight='bold', fontsize=16, color='#333333')\n",
        "\n",
        "# Master tick params\n",
        "ax.tick_params(axis='both', which='both', labelsize=12, \n",
        "               bottom=False, top=False, labelbottom=True,\n",
        "               left=False, right=False, labelleft=True)\n",
        "\n",
        "# Tick labels params\n",
        "ax.set_xticklabels(['1996', '2001','2006','2011', '2016'], size=15, \n",
        "                   weight='bold', color='#333333')\n",
        "ax.set_yticklabels(range(0, 69999, 10000), size=15, \n",
        "                   weight='bold', color='#333333')\n",
        "ax.set_yticks(range(-201, 69799, 10000))\n",
        "ax.set_xticks([-0.9, 0.1, 1.1, 2.1, 3.1])\n",
        "\n",
        "plt.ylim(-200, 70001)\n",
        "plt.xlim(-1, 3.2)\n",
        "\n",
        "# Master grid params\n",
        "ax.grid(True, 'major', 'y', ls='--', lw=1, c='#333333', alpha=.2)\n",
        "\n",
        "# Master spines param\n",
        "ax.spines['left'].set_visible(False)\n",
        "ax.spines['left'].set_smart_bounds(False)\n",
        "ax.spines['left'].set_linewidth(2.5)\n",
        "ax.spines['left'].set_capstyle(\"round\")\n",
        "ax.spines['right'].set_visible(False)\n",
        "ax.spines['top'].set_visible(False)\n",
        "ax.spines['bottom'].set_visible(False)\n",
        "ax.spines['bottom'].set_smart_bounds(True)\n",
        "ax.spines['bottom'].set_linewidth(2.5)\n",
        "ax.spines['bottom'].set_capstyle(\"round\")\n",
        "\n",
        "# save .png configuration\n",
        "# plt.savefig(\"cdn_census_area_plot.png\", bbox_inches='tight', facecolor='#F7F2EC', dpi=300)\n",
        "\n",
        "plt.show()"
      ],
      "execution_count": 9,
      "outputs": [
        {
          "output_type": "display_data",
          "data": {
            "image/png": "[encoded data removed]",
            "text/plain": [
              "<Figure size 1440x720 with 1 Axes>"
            ]
          },
          "metadata": {
            "tags": []
          }
        }
      ]
    },
    {
      "cell_type": "code",
      "metadata": {
        "id": "cxP8rCnwxycZ",
        "colab_type": "code",
        "outputId": "9672ce97-0599-4a23-86e6-370cc330deba",
        "colab": {
          "base_uri": "https://localhost:8080/",
          "height": 554
        }
      },
      "source": [
        "# DEPRECIATED GRAPH\n",
        "# data is too wide and inaccurate as farm amount includes small homeowner garden\n",
        "fig, ax = plt.subplots(figsize=(18, 8))\n",
        "\n",
        "font = FontProperties()\n",
        "font.set_style('normal')\n",
        "\n",
        "fig.patch.set(facecolor='#F2F2F2') # background (exterior)\n",
        "ax.set(facecolor='#F2F2F2') # axes background (interior)\n",
        "\n",
        "plt.style.use('seaborn-ticks')\n",
        "\n",
        "plt.title(x=-0.05, y=1.09, label=\"Area of Arable Land, Canada\", \n",
        "          ha='left', fontproperties=font, weight='bold', fontsize=35, \n",
        "          color='#333333', transform=ax.transAxes)\n",
        "ax.text(x=-0.05, y=1.0315, s='(thousand hectares)', \n",
        "        ha='left', weight='normal', fontsize=20, color='#333333', \n",
        "        transform=ax.transAxes)\n",
        "\n",
        "plt.bar(cdn_agro_land_df['year'], cdn_agro_land_df['area'], \n",
        "        width=0.8, align='center', color='#8C0808')\n",
        "# plt.axvline(x=0, linestyle='--', color='black', linewidth=1, alpha=0.2)\n",
        "# plt.axhline(y=0, linestyle='--', color='black', linewidth=1, alpha=0.2)\n",
        "ax.tick_params(axis='both', which='both', labelsize=12, \n",
        "               bottom=False, top=False, labelbottom=True,\n",
        "               left=True, right=False, labelleft=True)\n",
        "\n",
        "ax.set_xticklabels(['1960', '1970', '1980', '1990', '2000', '2010'], \n",
        "                   size=15, weight='bold', color='#333333')\n",
        "ax.set_yticklabels(range(600000, 710000, 20000), \n",
        "                   size=15, weight='bold', color='#333333')\n",
        "\n",
        "ax.grid(True, 'major', 'y', ls='--', lw=1, c='#333333', alpha=.2)\n",
        "\n",
        "plt.xlim(1960, 2017)\n",
        "plt.ylim(605970, 710000)\n",
        "\n",
        "ax.spines['left'].set_visible(True)\n",
        "ax.spines['left'].set_smart_bounds(True)\n",
        "ax.spines['left'].set_linewidth(2.5)\n",
        "ax.spines['left'].set_capstyle(\"round\")\n",
        "ax.spines['right'].set_visible(False)\n",
        "ax.spines['top'].set_visible(False)\n",
        "ax.spines['bottom'].set_visible(True)\n",
        "ax.spines['bottom'].set_smart_bounds(True)\n",
        "ax.spines['bottom'].set_linewidth(2.5)\n",
        "ax.spines['bottom'].set_capstyle(\"round\")\n",
        "\n",
        "plt.show()"
      ],
      "execution_count": 812,
      "outputs": [
        {
          "output_type": "display_data",
          "data": {
            "image/png": "[encoded data removed]",
            "text/plain": [
              "<Figure size 1296x576 with 1 Axes>"
            ]
          },
          "metadata": {
            "tags": []
          }
        }
      ]
    },
    {
      "cell_type": "markdown",
      "metadata": {
        "id": "crU_YTxdOmSZ",
        "colab_type": "text"
      },
      "source": [
        "## Number and Cancer Incidence - Canada and the Provinces Plot\n",
        "\n",
        "Source: Statistics Canada"
      ]
    },
    {
      "cell_type": "code",
      "metadata": {
        "id": "6DIicgRWxp9Z",
        "colab_type": "code",
        "colab": {
          "base_uri": "https://localhost:8080/",
          "height": 204
        },
        "outputId": "517d7518-b950-47cf-8cc5-70ab5db978ca"
      },
      "source": [
        "cdn_cancer_2013_2017_df = pd.read_csv('https://github.com/Vanagand/DS-Unit-1-Build/raw/master/cdn_cancer_2013_2017.csv')\n",
        "\n",
        "# Isolating cancer incidences by province\n",
        "geo_pe = (cdn_cancer_2013_2017_df['geo'] == 'Prince Edward Island') &\\\n",
        "(cdn_cancer_2013_2017_df['uom'] == 'Rate per 100,000 population')\n",
        "geo_cdn = (cdn_cancer_2013_2017_df['geo'] == 'Canada (excluding Quebec)') &\\\n",
        " (cdn_cancer_2013_2017_df['uom'] == 'Rate per 100,000 population')\n",
        "geo_sk = (cdn_cancer_2013_2017_df['geo'] == 'Saskatchewan') &\\\n",
        " (cdn_cancer_2013_2017_df['uom'] == 'Rate per 100,000 population')\n",
        "geo_nb = (cdn_cancer_2013_2017_df['geo'] == 'New Brunswick') &\\\n",
        " (cdn_cancer_2013_2017_df['uom'] == 'Rate per 100,000 population')\n",
        "geo_nt = (cdn_cancer_2013_2017_df['geo'] == 'Northwest Territories') &\\\n",
        " (cdn_cancer_2013_2017_df['uom'] == 'Rate per 100,000 population')\n",
        "geo_nu = (cdn_cancer_2013_2017_df['geo'] == 'Nunavut') &\\\n",
        " (cdn_cancer_2013_2017_df['uom'] == 'Rate per 100,000 population')\n",
        "geo_mb = (cdn_cancer_2013_2017_df['geo'] == 'Manitoba') &\\\n",
        " (cdn_cancer_2013_2017_df['uom'] == 'Rate per 100,000 population')\n",
        "geo_ns = (cdn_cancer_2013_2017_df['geo'] == 'Nova Scotia') &\\\n",
        " (cdn_cancer_2013_2017_df['uom'] == 'Rate per 100,000 population')\n",
        "geo_on = (cdn_cancer_2013_2017_df['geo'] == 'Ontario') &\\\n",
        " (cdn_cancer_2013_2017_df['uom'] == 'Rate per 100,000 population')\n",
        "geo_nl = (cdn_cancer_2013_2017_df['geo'] == 'Newfoundland and Labrador') &\\\n",
        " (cdn_cancer_2013_2017_df['uom'] == 'Rate per 100,000 population')\n",
        "geo_bc = (cdn_cancer_2013_2017_df['geo'] == 'British Columbia') &\\\n",
        " (cdn_cancer_2013_2017_df['uom'] == 'Rate per 100,000 population')\n",
        "geo_ab = (cdn_cancer_2013_2017_df['geo'] == 'Alberta') &\\\n",
        " (cdn_cancer_2013_2017_df['uom'] == 'Rate per 100,000 population')\n",
        "geo_yt = (cdn_cancer_2013_2017_df['geo'] == 'Yukon') &\\\n",
        " (cdn_cancer_2013_2017_df['uom'] == 'Rate per 100,000 population')\n",
        "geo_all = (cdn_cancer_2013_2017_df['geo'] != 'Canada (excluding Quebec)') &\\\n",
        " (cdn_cancer_2013_2017_df['uom'] == 'Rate per 100,000 population')\n",
        "\n",
        "all_cdn = cdn_cancer_2013_2017_df[geo_all]\n",
        "\n",
        "cdn_cancer_2013_2017_df[geo_yt]\n"
      ],
      "execution_count": 55,
      "outputs": [
        {
          "output_type": "execute_result",
          "data": {
            "text/html": [
              "<div>\n",
              "<style scoped>\n",
              "    .dataframe tbody tr th:only-of-type {\n",
              "        vertical-align: middle;\n",
              "    }\n",
              "\n",
              "    .dataframe tbody tr th {\n",
              "        vertical-align: top;\n",
              "    }\n",
              "\n",
              "    .dataframe thead th {\n",
              "        text-align: right;\n",
              "    }\n",
              "</style>\n",
              "<table border=\"1\" class=\"dataframe\">\n",
              "  <thead>\n",
              "    <tr style=\"text-align: right;\">\n",
              "      <th></th>\n",
              "      <th>year</th>\n",
              "      <th>geo</th>\n",
              "      <th>age</th>\n",
              "      <th>sex</th>\n",
              "      <th>(ICD-O-3)</th>\n",
              "      <th>characteristics</th>\n",
              "      <th>uom</th>\n",
              "      <th>value</th>\n",
              "    </tr>\n",
              "  </thead>\n",
              "  <tbody>\n",
              "    <tr>\n",
              "      <th>105</th>\n",
              "      <td>2013</td>\n",
              "      <td>Yukon</td>\n",
              "      <td>Total, all ages</td>\n",
              "      <td>Both sexes</td>\n",
              "      <td>Total, all primary sites of cancer [C00.0-C80.9]</td>\n",
              "      <td>Cancer incidence rate</td>\n",
              "      <td>Rate per 100,000 population</td>\n",
              "      <td>383.3</td>\n",
              "    </tr>\n",
              "    <tr>\n",
              "      <th>106</th>\n",
              "      <td>2014</td>\n",
              "      <td>Yukon</td>\n",
              "      <td>Total, all ages</td>\n",
              "      <td>Both sexes</td>\n",
              "      <td>Total, all primary sites of cancer [C00.0-C80.9]</td>\n",
              "      <td>Cancer incidence rate</td>\n",
              "      <td>Rate per 100,000 population</td>\n",
              "      <td>350.1</td>\n",
              "    </tr>\n",
              "    <tr>\n",
              "      <th>107</th>\n",
              "      <td>2015</td>\n",
              "      <td>Yukon</td>\n",
              "      <td>Total, all ages</td>\n",
              "      <td>Both sexes</td>\n",
              "      <td>Total, all primary sites of cancer [C00.0-C80.9]</td>\n",
              "      <td>Cancer incidence rate</td>\n",
              "      <td>Rate per 100,000 population</td>\n",
              "      <td>451.0</td>\n",
              "    </tr>\n",
              "    <tr>\n",
              "      <th>108</th>\n",
              "      <td>2016</td>\n",
              "      <td>Yukon</td>\n",
              "      <td>Total, all ages</td>\n",
              "      <td>Both sexes</td>\n",
              "      <td>Total, all primary sites of cancer [C00.0-C80.9]</td>\n",
              "      <td>Cancer incidence rate</td>\n",
              "      <td>Rate per 100,000 population</td>\n",
              "      <td>428.0</td>\n",
              "    </tr>\n",
              "    <tr>\n",
              "      <th>109</th>\n",
              "      <td>2017</td>\n",
              "      <td>Yukon</td>\n",
              "      <td>Total, all ages</td>\n",
              "      <td>Both sexes</td>\n",
              "      <td>Total, all primary sites of cancer [C00.0-C80.9]</td>\n",
              "      <td>Cancer incidence rate</td>\n",
              "      <td>Rate per 100,000 population</td>\n",
              "      <td>390.5</td>\n",
              "    </tr>\n",
              "  </tbody>\n",
              "</table>\n",
              "</div>"
            ],
            "text/plain": [
              "     year    geo  ...                          uom  value\n",
              "105  2013  Yukon  ...  Rate per 100,000 population  383.3\n",
              "106  2014  Yukon  ...  Rate per 100,000 population  350.1\n",
              "107  2015  Yukon  ...  Rate per 100,000 population  451.0\n",
              "108  2016  Yukon  ...  Rate per 100,000 population  428.0\n",
              "109  2017  Yukon  ...  Rate per 100,000 population  390.5\n",
              "\n",
              "[5 rows x 8 columns]"
            ]
          },
          "metadata": {
            "tags": []
          },
          "execution_count": 55
        }
      ]
    },
    {
      "cell_type": "code",
      "metadata": {
        "id": "Uv0_tpdDEMLw",
        "colab_type": "code",
        "colab": {
          "base_uri": "https://localhost:8080/",
          "height": 357
        },
        "outputId": "86128d31-0454-4c60-d796-a7b09f21a80e"
      },
      "source": [
        "geo_province = (cdn_cancer_2013_2017_df['geo'] != 'Canada (excluding Quebec)') &\\\n",
        "(cdn_cancer_2013_2017_df['uom'] == 'Rate per 100,000 population')\n",
        "\n",
        "print(cdn_cancer_2013_2017_df[geo_province]['value'].describe())\n",
        "\n",
        "cdn_cancer_2013_2017_df[geo_pe]"
      ],
      "execution_count": 56,
      "outputs": [
        {
          "output_type": "stream",
          "text": [
            "count     60.000000\n",
            "mean     499.763333\n",
            "std      136.831946\n",
            "min      180.700000\n",
            "25%      427.925000\n",
            "50%      503.200000\n",
            "75%      619.250000\n",
            "max      686.600000\n",
            "Name: value, dtype: float64\n"
          ],
          "name": "stdout"
        },
        {
          "output_type": "execute_result",
          "data": {
            "text/html": [
              "<div>\n",
              "<style scoped>\n",
              "    .dataframe tbody tr th:only-of-type {\n",
              "        vertical-align: middle;\n",
              "    }\n",
              "\n",
              "    .dataframe tbody tr th {\n",
              "        vertical-align: top;\n",
              "    }\n",
              "\n",
              "    .dataframe thead th {\n",
              "        text-align: right;\n",
              "    }\n",
              "</style>\n",
              "<table border=\"1\" class=\"dataframe\">\n",
              "  <thead>\n",
              "    <tr style=\"text-align: right;\">\n",
              "      <th></th>\n",
              "      <th>year</th>\n",
              "      <th>geo</th>\n",
              "      <th>age</th>\n",
              "      <th>sex</th>\n",
              "      <th>(ICD-O-3)</th>\n",
              "      <th>characteristics</th>\n",
              "      <th>uom</th>\n",
              "      <th>value</th>\n",
              "    </tr>\n",
              "  </thead>\n",
              "  <tbody>\n",
              "    <tr>\n",
              "      <th>25</th>\n",
              "      <td>2013</td>\n",
              "      <td>Prince Edward Island</td>\n",
              "      <td>Total, all ages</td>\n",
              "      <td>Both sexes</td>\n",
              "      <td>Total, all primary sites of cancer [C00.0-C80.9]</td>\n",
              "      <td>Cancer incidence rate</td>\n",
              "      <td>Rate per 100,000 population</td>\n",
              "      <td>607.2</td>\n",
              "    </tr>\n",
              "    <tr>\n",
              "      <th>26</th>\n",
              "      <td>2014</td>\n",
              "      <td>Prince Edward Island</td>\n",
              "      <td>Total, all ages</td>\n",
              "      <td>Both sexes</td>\n",
              "      <td>Total, all primary sites of cancer [C00.0-C80.9]</td>\n",
              "      <td>Cancer incidence rate</td>\n",
              "      <td>Rate per 100,000 population</td>\n",
              "      <td>616.8</td>\n",
              "    </tr>\n",
              "    <tr>\n",
              "      <th>27</th>\n",
              "      <td>2015</td>\n",
              "      <td>Prince Edward Island</td>\n",
              "      <td>Total, all ages</td>\n",
              "      <td>Both sexes</td>\n",
              "      <td>Total, all primary sites of cancer [C00.0-C80.9]</td>\n",
              "      <td>Cancer incidence rate</td>\n",
              "      <td>Rate per 100,000 population</td>\n",
              "      <td>629.6</td>\n",
              "    </tr>\n",
              "    <tr>\n",
              "      <th>28</th>\n",
              "      <td>2016</td>\n",
              "      <td>Prince Edward Island</td>\n",
              "      <td>Total, all ages</td>\n",
              "      <td>Both sexes</td>\n",
              "      <td>Total, all primary sites of cancer [C00.0-C80.9]</td>\n",
              "      <td>Cancer incidence rate</td>\n",
              "      <td>Rate per 100,000 population</td>\n",
              "      <td>605.6</td>\n",
              "    </tr>\n",
              "    <tr>\n",
              "      <th>29</th>\n",
              "      <td>2017</td>\n",
              "      <td>Prince Edward Island</td>\n",
              "      <td>Total, all ages</td>\n",
              "      <td>Both sexes</td>\n",
              "      <td>Total, all primary sites of cancer [C00.0-C80.9]</td>\n",
              "      <td>Cancer incidence rate</td>\n",
              "      <td>Rate per 100,000 population</td>\n",
              "      <td>614.7</td>\n",
              "    </tr>\n",
              "  </tbody>\n",
              "</table>\n",
              "</div>"
            ],
            "text/plain": [
              "    year                   geo  ...                          uom  value\n",
              "25  2013  Prince Edward Island  ...  Rate per 100,000 population  607.2\n",
              "26  2014  Prince Edward Island  ...  Rate per 100,000 population  616.8\n",
              "27  2015  Prince Edward Island  ...  Rate per 100,000 population  629.6\n",
              "28  2016  Prince Edward Island  ...  Rate per 100,000 population  605.6\n",
              "29  2017  Prince Edward Island  ...  Rate per 100,000 population  614.7\n",
              "\n",
              "[5 rows x 8 columns]"
            ]
          },
          "metadata": {
            "tags": []
          },
          "execution_count": 56
        }
      ]
    },
    {
      "cell_type": "code",
      "metadata": {
        "id": "b4SeHPWMj8tB",
        "colab_type": "code",
        "colab": {
          "base_uri": "https://localhost:8080/",
          "height": 34
        },
        "outputId": "12981134-2401-49cb-f9bb-f00e665ecc1a"
      },
      "source": [
        "cdn_wb_cancer_mean_year_condition = all_cdn['year'] == 2017\n",
        "cdn_wb_cancer_year = all_cdn[cdn_wb_cancer_mean_year_condition]\n",
        "round((cdn_wb_cancer_year['value'].sum())/9, 3)"
      ],
      "execution_count": 57,
      "outputs": [
        {
          "output_type": "execute_result",
          "data": {
            "text/plain": [
              "664.3"
            ]
          },
          "metadata": {
            "tags": []
          },
          "execution_count": 57
        }
      ]
    },
    {
      "cell_type": "code",
      "metadata": {
        "id": "bryjL65STWxP",
        "colab_type": "code",
        "colab": {
          "base_uri": "https://localhost:8080/",
          "height": 204
        },
        "outputId": "8d361626-9ad1-42dd-88ec-83e3b69d7ed4"
      },
      "source": [
        "# Explore value as a list\n",
        "cdn_wb_cancer_geo_condition = all_cdn['geo'] == 'Manitoba'\n",
        "wb_cancer_incidence = all_cdn[cdn_wb_cancer_geo_condition]\n",
        "\n",
        "print(all_cdn['value'].describe())\n",
        "print('')\n",
        "list(round(wb_cancer_incidence['value'], 1))"
      ],
      "execution_count": 58,
      "outputs": [
        {
          "output_type": "stream",
          "text": [
            "count     60.000000\n",
            "mean     499.763333\n",
            "std      136.831946\n",
            "min      180.700000\n",
            "25%      427.925000\n",
            "50%      503.200000\n",
            "75%      619.250000\n",
            "max      686.600000\n",
            "Name: value, dtype: float64\n",
            "\n"
          ],
          "name": "stdout"
        },
        {
          "output_type": "execute_result",
          "data": {
            "text/plain": [
              "[500.2, 500.4, 497.2, 491.2, 472.7]"
            ]
          },
          "metadata": {
            "tags": []
          },
          "execution_count": 58
        }
      ]
    },
    {
      "cell_type": "code",
      "metadata": {
        "id": "feTi4pZaRRPH",
        "colab_type": "code",
        "colab": {
          "base_uri": "https://localhost:8080/",
          "height": 707
        },
        "outputId": "4338b77b-9ebe-442b-bf52-72d76daf6cae"
      },
      "source": [
        "fig, ax = plt.subplots(figsize=(20, 10))\n",
        "\n",
        "font = FontProperties()\n",
        "font.set_style('normal')\n",
        "\n",
        "fig.patch.set(facecolor='#F7F2EC') # Background (exterior)\n",
        "ax.set(facecolor='#F7F2EC') # Axes background (interior)\n",
        "\n",
        "plt.style.use('seaborn-ticks')\n",
        "\n",
        "n = 5\n",
        "index = np.arange(n) # label coordinate\n",
        "width = 0.1  # the width of the bars\n",
        "\n",
        "plt.title(x=-0.05, y=1.125, label=\"Cancer Incidence Rate, Canada and the Provinces\", \n",
        "          ha='left', fontproperties=font, weight='bold', fontsize=35, \n",
        "          color='#333333', transform=ax.transAxes)\n",
        "ax.text(x=-0.05, y=1.072, s='(per 100000 population)', \n",
        "        ha='left', weight='normal', fontsize=20, color='#333333', \n",
        "        transform=ax.transAxes)\n",
        "\n",
        "# data_qc = () no data\n",
        "data_ns = (651.8, 649.4, 670.6, 670.9, 631.8)\n",
        "data_nb = (630.8, 616.6, 626.6, 633.4, 631.9)\n",
        "data_bc = (524.8, 517.9, 523.3, 515.7, 499.8)\n",
        "data_on = (554.2, 556.1, 564.5, 574.2, 562.9)\n",
        "data_nl = (645.0, 674.0, 660.8, 686.6, 670.0)\n",
        "data_mb = (500.2, 500.4, 497.2, 491.2, 472.7)\n",
        "data_sk = (506.0, 489.7, 488.4, 489.0, 471.8)\n",
        "data_pe = (607.2, 616.8, 629.6, 605.6, 614.7)\n",
        "data_ab = (415.0, 435.2, 435.3, 436.4, 427.7)\n",
        "\n",
        "bar_ns = plt.bar(index, data_ns, width, color='#9FC490') # New color entry\n",
        "bar_nb = plt.bar(index + width, data_nb, width, color='#465362') # New color entry\n",
        "bar_bc = plt.bar(index + 2*width, data_bc, width, color='#E09F3E')\n",
        "bar_on = plt.bar(index + 3*width, data_on, width, color='#73937E')\n",
        "bar_nl = plt.bar(index + 4*width, data_nl, width, color='#005377') # New color entry\n",
        "bar_mb = plt.bar(index + 5*width, data_mb, width, color='#B3A394')\n",
        "bar_sk = plt.bar(index + 6*width, data_sk, width, color='#4D9DE0')\n",
        "bar_pe = plt.bar(index + 7*width, data_pe, width, color='#91C499') # New color entry\n",
        "bar_ab = plt.bar(index + 8*width, data_ab, width, color='#2B3A67')\n",
        "\n",
        "ax.tick_params(axis='both', which='both', labelsize=12, \n",
        "               bottom=False, top=False, labelbottom=True,\n",
        "               left=False, right=False, labelleft=True)\n",
        "\n",
        "plt.plot([0.4, 1.4, 2.4, 3.4, 4.4], [655.444, 661.278, 672.844, 677.889, 664.3], linewidth=2.5, ls='--', c='#A30015', zorder=2)\n",
        "plt.scatter([0.4, 1.4, 2.4, 3.4, 4.4], [655.444, 661.278, 672.844, 677.889, 664.3], s=200, c='#A30015', zorder=2)\n",
        "ax.text(4.47, 664.3, s='Mean', verticalalignment='center', horizontalalignment='left', size=15, weight='bold', color='#A30015', zorder=2)\n",
        "\n",
        "ax.text(5.1, 740, s='.', verticalalignment='center', horizontalalignment='left', size=120, weight='bold', color='#9FC490', zorder=1)\n",
        "ax.text(5.25, 726.8, s='Nova Scotia', verticalalignment='center', horizontalalignment='left', size=15, weight='bold', color='#333333', zorder=1)\n",
        "ax.text(5.1, 725, s='.', verticalalignment='center', horizontalalignment='left', size=120, weight='bold', color='#465362', zorder=1)\n",
        "ax.text(5.25, 711.8, s='New Brunswick', verticalalignment='center', horizontalalignment='left', size=15, weight='bold', color='#333333', zorder=1)\n",
        "ax.text(5.1, 710, s='.', verticalalignment='center', horizontalalignment='left', size=120, weight='bold', color='#E09F3E', zorder=1)\n",
        "ax.text(5.25, 696.8, s='British Columbia', verticalalignment='center', horizontalalignment='left', size=15, weight='bold', color='#333333', zorder=1)\n",
        "ax.text(5.1, 695, s='.', verticalalignment='center', horizontalalignment='left', size=120, weight='bold', color='#73937E', zorder=1)\n",
        "ax.text(5.25, 681.8, s='Ontario', verticalalignment='center', horizontalalignment='left', size=15, weight='bold', color='#333333', zorder=1)\n",
        "ax.text(5.1, 680, s='.', verticalalignment='center', horizontalalignment='left', size=120, weight='bold', color='#005377', zorder=1)\n",
        "ax.text(5.25, 666.8, s='Newfoundland and Labrador', verticalalignment='center', horizontalalignment='left', size=15, weight='bold', color='#333333', zorder=1)\n",
        "ax.text(5.1, 665, s='.', verticalalignment='center', horizontalalignment='left', size=120, weight='bold', color='#B3A394', zorder=1)\n",
        "ax.text(5.25, 651.8, s='Manitoba', verticalalignment='center', horizontalalignment='left', size=15, weight='bold', color='#333333', zorder=1)\n",
        "ax.text(5.1, 650, s='.', verticalalignment='center', horizontalalignment='left', size=120, weight='bold', color='#4D9DE0', zorder=1)\n",
        "ax.text(5.25, 636.8, s='Saskatchewan', verticalalignment='center', horizontalalignment='left', size=15, weight='bold', color='#333333', zorder=1)\n",
        "ax.text(5.1, 635, s='.', verticalalignment='center', horizontalalignment='left', size=120, weight='bold', color='#91C499', zorder=1)\n",
        "ax.text(5.25, 621.8, s='Prince Edward Island', verticalalignment='center', horizontalalignment='left', size=15, weight='bold', color='#333333', zorder=1)\n",
        "ax.text(5.1, 620, s='.', verticalalignment='center', horizontalalignment='left', size=120, weight='bold', color='#2B3A67', zorder=1)\n",
        "ax.text(5.25, 606.8, s='Alberta', verticalalignment='center', horizontalalignment='left', size=15, weight='bold', color='#333333', zorder=1)\n",
        "\n",
        "ax.set_xticklabels(['2013', '2014','2015','2016', '2017'], size=15, weight='bold', color='#333333')\n",
        "ax.set_yticklabels(range(400, 701, 50), size=15, weight='bold', color='#333333')\n",
        "ax.set_yticks(range(400, 701, 50))\n",
        "ax.set_xticks([0.4, 1.4, 2.4, 3.4, 4.4])\n",
        "\n",
        "plt.ylim(400, 710)\n",
        "plt.xlim(-0.05, 5)\n",
        "\n",
        "ax.grid(True, 'major', 'y', ls='--', lw=1, c='#333333', alpha=.2)\n",
        "\n",
        "ax.spines['left'].set_visible(True)\n",
        "ax.spines['left'].set_smart_bounds(False)\n",
        "ax.spines['left'].set_linewidth(2.5)\n",
        "ax.spines['left'].set_capstyle(\"round\")\n",
        "ax.spines['right'].set_visible(False)\n",
        "ax.spines['top'].set_visible(False)\n",
        "ax.spines['bottom'].set_visible(True)\n",
        "ax.spines['bottom'].set_smart_bounds(True)\n",
        "ax.spines['bottom'].set_linewidth(2.5)\n",
        "ax.spines['bottom'].set_capstyle(\"round\")\n",
        "\n",
        "# plt.savefig(\"cdn_census_cancer_plot.png\", bbox_inches='tight', facecolor='#F7F2EC', dpi=300)\n",
        "\n",
        "plt.show()"
      ],
      "execution_count": 19,
      "outputs": [
        {
          "output_type": "display_data",
          "data": {
            "image/png": "[encoded data removed]",
            "text/plain": [
              "<Figure size 1440x720 with 1 Axes>"
            ]
          },
          "metadata": {
            "tags": []
          }
        }
      ]
    },
    {
      "cell_type": "code",
      "metadata": {
        "id": "Whpc1hNkHe9N",
        "colab_type": "code",
        "colab": {
          "base_uri": "https://localhost:8080/",
          "height": 483
        },
        "outputId": "737a0563-5fb1-4c42-c20f-a209b66c4831"
      },
      "source": [
        "cancer_numbers = (cdn_cancer_2013_2017_df['uom'] == 'Number')\n",
        "\n",
        "cancer_pivot = cdn_cancer_2013_2017_df[cancer_numbers].pivot_table(index='geo',\n",
        "                                    columns='year',\n",
        "                                    values='value')\n",
        "\n",
        "cancer_pivot"
      ],
      "execution_count": 14,
      "outputs": [
        {
          "output_type": "execute_result",
          "data": {
            "text/html": [
              "<div>\n",
              "<style scoped>\n",
              "    .dataframe tbody tr th:only-of-type {\n",
              "        vertical-align: middle;\n",
              "    }\n",
              "\n",
              "    .dataframe tbody tr th {\n",
              "        vertical-align: top;\n",
              "    }\n",
              "\n",
              "    .dataframe thead th {\n",
              "        text-align: right;\n",
              "    }\n",
              "</style>\n",
              "<table border=\"1\" class=\"dataframe\">\n",
              "  <thead>\n",
              "    <tr style=\"text-align: right;\">\n",
              "      <th>year</th>\n",
              "      <th>2013</th>\n",
              "      <th>2014</th>\n",
              "      <th>2015</th>\n",
              "      <th>2016</th>\n",
              "      <th>2017</th>\n",
              "    </tr>\n",
              "    <tr>\n",
              "      <th>geo</th>\n",
              "      <th></th>\n",
              "      <th></th>\n",
              "      <th></th>\n",
              "      <th></th>\n",
              "      <th></th>\n",
              "    </tr>\n",
              "  </thead>\n",
              "  <tbody>\n",
              "    <tr>\n",
              "      <th>Alberta</th>\n",
              "      <td>16520.0</td>\n",
              "      <td>17770.0</td>\n",
              "      <td>18040.0</td>\n",
              "      <td>18310.0</td>\n",
              "      <td>18150.0</td>\n",
              "    </tr>\n",
              "    <tr>\n",
              "      <th>British Columbia</th>\n",
              "      <td>24300.0</td>\n",
              "      <td>24380.0</td>\n",
              "      <td>24995.0</td>\n",
              "      <td>25060.0</td>\n",
              "      <td>24610.0</td>\n",
              "    </tr>\n",
              "    <tr>\n",
              "      <th>Canada (excluding Quebec)</th>\n",
              "      <td>143115.0</td>\n",
              "      <td>145300.0</td>\n",
              "      <td>148125.0</td>\n",
              "      <td>151150.0</td>\n",
              "      <td>149435.0</td>\n",
              "    </tr>\n",
              "    <tr>\n",
              "      <th>Manitoba</th>\n",
              "      <td>6325.0</td>\n",
              "      <td>6400.0</td>\n",
              "      <td>6425.0</td>\n",
              "      <td>6455.0</td>\n",
              "      <td>6310.0</td>\n",
              "    </tr>\n",
              "    <tr>\n",
              "      <th>New Brunswick</th>\n",
              "      <td>4785.0</td>\n",
              "      <td>4680.0</td>\n",
              "      <td>4755.0</td>\n",
              "      <td>4835.0</td>\n",
              "      <td>4845.0</td>\n",
              "    </tr>\n",
              "    <tr>\n",
              "      <th>Newfoundland and Labrador</th>\n",
              "      <td>3400.0</td>\n",
              "      <td>3560.0</td>\n",
              "      <td>3490.0</td>\n",
              "      <td>3635.0</td>\n",
              "      <td>3540.0</td>\n",
              "    </tr>\n",
              "    <tr>\n",
              "      <th>Northwest Territories</th>\n",
              "      <td>130.0</td>\n",
              "      <td>160.0</td>\n",
              "      <td>140.0</td>\n",
              "      <td>170.0</td>\n",
              "      <td>170.0</td>\n",
              "    </tr>\n",
              "    <tr>\n",
              "      <th>Nova Scotia</th>\n",
              "      <td>6130.0</td>\n",
              "      <td>6095.0</td>\n",
              "      <td>6280.0</td>\n",
              "      <td>6325.0</td>\n",
              "      <td>6005.0</td>\n",
              "    </tr>\n",
              "    <tr>\n",
              "      <th>Nunavut</th>\n",
              "      <td>65.0</td>\n",
              "      <td>65.0</td>\n",
              "      <td>70.0</td>\n",
              "      <td>70.0</td>\n",
              "      <td>85.0</td>\n",
              "    </tr>\n",
              "    <tr>\n",
              "      <th>Ontario</th>\n",
              "      <td>74870.0</td>\n",
              "      <td>75725.0</td>\n",
              "      <td>77375.0</td>\n",
              "      <td>79670.0</td>\n",
              "      <td>79215.0</td>\n",
              "    </tr>\n",
              "    <tr>\n",
              "      <th>Prince Edward Island</th>\n",
              "      <td>875.0</td>\n",
              "      <td>890.0</td>\n",
              "      <td>910.0</td>\n",
              "      <td>890.0</td>\n",
              "      <td>925.0</td>\n",
              "    </tr>\n",
              "    <tr>\n",
              "      <th>Saskatchewan</th>\n",
              "      <td>5565.0</td>\n",
              "      <td>5450.0</td>\n",
              "      <td>5475.0</td>\n",
              "      <td>5555.0</td>\n",
              "      <td>5430.0</td>\n",
              "    </tr>\n",
              "    <tr>\n",
              "      <th>Yukon</th>\n",
              "      <td>140.0</td>\n",
              "      <td>130.0</td>\n",
              "      <td>170.0</td>\n",
              "      <td>165.0</td>\n",
              "      <td>155.0</td>\n",
              "    </tr>\n",
              "  </tbody>\n",
              "</table>\n",
              "</div>"
            ],
            "text/plain": [
              "year                           2013      2014      2015      2016      2017\n",
              "geo                                                                        \n",
              "Alberta                     16520.0   17770.0   18040.0   18310.0   18150.0\n",
              "British Columbia            24300.0   24380.0   24995.0   25060.0   24610.0\n",
              "Canada (excluding Quebec)  143115.0  145300.0  148125.0  151150.0  149435.0\n",
              "Manitoba                     6325.0    6400.0    6425.0    6455.0    6310.0\n",
              "New Brunswick                4785.0    4680.0    4755.0    4835.0    4845.0\n",
              "Newfoundland and Labrador    3400.0    3560.0    3490.0    3635.0    3540.0\n",
              "Northwest Territories         130.0     160.0     140.0     170.0     170.0\n",
              "Nova Scotia                  6130.0    6095.0    6280.0    6325.0    6005.0\n",
              "Nunavut                        65.0      65.0      70.0      70.0      85.0\n",
              "Ontario                     74870.0   75725.0   77375.0   79670.0   79215.0\n",
              "Prince Edward Island          875.0     890.0     910.0     890.0     925.0\n",
              "Saskatchewan                 5565.0    5450.0    5475.0    5555.0    5430.0\n",
              "Yukon                         140.0     130.0     170.0     165.0     155.0"
            ]
          },
          "metadata": {
            "tags": []
          },
          "execution_count": 14
        }
      ]
    },
    {
      "cell_type": "markdown",
      "metadata": {
        "id": "hViX8H-snO7X",
        "colab_type": "text"
      },
      "source": [
        "#Heatmap attempt"
      ]
    },
    {
      "cell_type": "code",
      "metadata": {
        "id": "d_9V1YVEpQh3",
        "colab_type": "code",
        "colab": {}
      },
      "source": [
        "# Year 2016\n",
        "# var_province = ['Nova Scotia','New Brunswick','British Columbia', 'Ontario', 'Newfoundland and Labrador', 'Manitoba' , 'Saskatchewan', 'Prince Edward Island' , 'Alberta']\n",
        "# var_province = [1, 2, 3, 4, 5, 6, 7, 8, 9]\n",
        "var_area = [915.7, 835.3 ,6400.5, 12348.5,70.7, 17637.6, 61585.8, 575.5, 50250.2]\n",
        "var_cancer_rate = [670.9, 633.4, 515.7, 574.2, 686.6, 491.2, 489.0, 605.6, 436.4]\n",
        "var_cancer_number  = [6325, 4835, 25060, 79670, 3635, 6455, 5555, 890, 18310.]\n",
        "\n",
        "grouped_vars = {'Area':var_area, 'Rate':var_cancer_rate, 'Number':var_cancer_number}\n",
        "heat_df = pd.DataFrame(grouped_vars)"
      ],
      "execution_count": 0,
      "outputs": []
    },
    {
      "cell_type": "code",
      "metadata": {
        "id": "yL-hkjsBsaxy",
        "colab_type": "code",
        "colab": {
          "base_uri": "https://localhost:8080/",
          "height": 286
        },
        "outputId": "f463979d-4b74-4fbf-de03-759fdfa80686"
      },
      "source": [
        "corr = heat_df.corr()\n",
        "# plot the heatmap and annotation on it\n",
        "sns.heatmap(corr, xticklabels=corr.columns, yticklabels=corr.columns, annot=True)"
      ],
      "execution_count": 14,
      "outputs": [
        {
          "output_type": "execute_result",
          "data": {
            "text/plain": [
              "<matplotlib.axes._subplots.AxesSubplot at 0x7f3c6e8c6518>"
            ]
          },
          "metadata": {
            "tags": []
          },
          "execution_count": 14
        },
        {
          "output_type": "display_data",
          "data": {
            "image/png": "[encoded data removed]",
            "text/plain": [
              "<Figure size 432x288 with 2 Axes>"
            ]
          },
          "metadata": {
            "tags": []
          }
        }
      ]
    },
    {
      "cell_type": "code",
      "metadata": {
        "id": "bf3iu8xBwt9a",
        "colab_type": "code",
        "colab": {
          "base_uri": "https://localhost:8080/",
          "height": 272
        },
        "outputId": "f451b84b-3137-445a-8b09-d299e7184ccb"
      },
      "source": [
        "corr = heat_df.corr()\n",
        "ax = sns.heatmap(\n",
        "    corr, \n",
        "    vmin=-1, vmax=1, center=0,\n",
        "    cmap=sns.diverging_palette(20, 220, n=200),\n",
        "    square=False, annot=True\n",
        ");\n",
        "\n",
        "# plt.savefig(\"cdn_cancer_area_heat.png\", bbox_inches='tight', facecolor='#F7F2EC', dpi=300)"
      ],
      "execution_count": 23,
      "outputs": [
        {
          "output_type": "display_data",
          "data": {
            "image/png": "[encoded data removed]",
            "text/plain": [
              "<Figure size 432x288 with 2 Axes>"
            ]
          },
          "metadata": {
            "tags": []
          }
        }
      ]
    },
    {
      "cell_type": "code",
      "metadata": {
        "id": "dIFRiVSstFo3",
        "colab_type": "code",
        "colab": {
          "base_uri": "https://localhost:8080/",
          "height": 142
        },
        "outputId": "0af3629e-ceb1-4372-9db5-3bec665f3d45"
      },
      "source": [
        "heat_df.cov()"
      ],
      "execution_count": 39,
      "outputs": [
        {
          "output_type": "execute_result",
          "data": {
            "text/html": [
              "<div>\n",
              "<style scoped>\n",
              "    .dataframe tbody tr th:only-of-type {\n",
              "        vertical-align: middle;\n",
              "    }\n",
              "\n",
              "    .dataframe tbody tr th {\n",
              "        vertical-align: top;\n",
              "    }\n",
              "\n",
              "    .dataframe thead th {\n",
              "        text-align: right;\n",
              "    }\n",
              "</style>\n",
              "<table border=\"1\" class=\"dataframe\">\n",
              "  <thead>\n",
              "    <tr style=\"text-align: right;\">\n",
              "      <th></th>\n",
              "      <th>Province</th>\n",
              "      <th>Area</th>\n",
              "      <th>Rate</th>\n",
              "    </tr>\n",
              "  </thead>\n",
              "  <tbody>\n",
              "    <tr>\n",
              "      <th>Province</th>\n",
              "      <td>7.5000</td>\n",
              "      <td>3.902729e+04</td>\n",
              "      <td>-1.447250e+02</td>\n",
              "    </tr>\n",
              "    <tr>\n",
              "      <th>Area</th>\n",
              "      <td>39027.2875</td>\n",
              "      <td>5.379500e+08</td>\n",
              "      <td>-1.595182e+06</td>\n",
              "    </tr>\n",
              "    <tr>\n",
              "      <th>Rate</th>\n",
              "      <td>-144.7250</td>\n",
              "      <td>-1.595182e+06</td>\n",
              "      <td>7.820978e+03</td>\n",
              "    </tr>\n",
              "  </tbody>\n",
              "</table>\n",
              "</div>"
            ],
            "text/plain": [
              "            Province          Area          Rate\n",
              "Province      7.5000  3.902729e+04 -1.447250e+02\n",
              "Area      39027.2875  5.379500e+08 -1.595182e+06\n",
              "Rate       -144.7250 -1.595182e+06  7.820978e+03"
            ]
          },
          "metadata": {
            "tags": []
          },
          "execution_count": 39
        }
      ]
    },
    {
      "cell_type": "markdown",
      "metadata": {
        "id": "JMJQgsQgZe61",
        "colab_type": "text"
      },
      "source": [
        "#CDN aggricultural land percentage dataframe"
      ]
    },
    {
      "cell_type": "code",
      "metadata": {
        "id": "t35ctVAhZ9Xe",
        "colab_type": "code",
        "colab": {
          "base_uri": "https://localhost:8080/",
          "height": 359
        },
        "outputId": "41e44330-df7c-4536-d853-2603b5d0100e"
      },
      "source": [
        "cdn_agri_pct_df = pd.read_csv('https://github.com/Vanagand/DS-Unit-1-Build/raw/master/cdn_agri_land.csv')\n",
        "\n",
        "cdn_agri_pct_df.tail(10)"
      ],
      "execution_count": 18,
      "outputs": [
        {
          "output_type": "execute_result",
          "data": {
            "text/html": [
              "<div>\n",
              "<style scoped>\n",
              "    .dataframe tbody tr th:only-of-type {\n",
              "        vertical-align: middle;\n",
              "    }\n",
              "\n",
              "    .dataframe tbody tr th {\n",
              "        vertical-align: top;\n",
              "    }\n",
              "\n",
              "    .dataframe thead th {\n",
              "        text-align: right;\n",
              "    }\n",
              "</style>\n",
              "<table border=\"1\" class=\"dataframe\">\n",
              "  <thead>\n",
              "    <tr style=\"text-align: right;\">\n",
              "      <th></th>\n",
              "      <th>year</th>\n",
              "      <th>value</th>\n",
              "    </tr>\n",
              "  </thead>\n",
              "  <tbody>\n",
              "    <tr>\n",
              "      <th>46</th>\n",
              "      <td>2007</td>\n",
              "      <td>7.17901</td>\n",
              "    </tr>\n",
              "    <tr>\n",
              "      <th>47</th>\n",
              "      <td>2008</td>\n",
              "      <td>7.10516</td>\n",
              "    </tr>\n",
              "    <tr>\n",
              "      <th>48</th>\n",
              "      <td>2009</td>\n",
              "      <td>7.03141</td>\n",
              "    </tr>\n",
              "    <tr>\n",
              "      <th>49</th>\n",
              "      <td>2010</td>\n",
              "      <td>6.95756</td>\n",
              "    </tr>\n",
              "    <tr>\n",
              "      <th>50</th>\n",
              "      <td>2011</td>\n",
              "      <td>6.88370</td>\n",
              "    </tr>\n",
              "    <tr>\n",
              "      <th>51</th>\n",
              "      <td>2012</td>\n",
              "      <td>6.88533</td>\n",
              "    </tr>\n",
              "    <tr>\n",
              "      <th>52</th>\n",
              "      <td>2013</td>\n",
              "      <td>6.88696</td>\n",
              "    </tr>\n",
              "    <tr>\n",
              "      <th>53</th>\n",
              "      <td>2014</td>\n",
              "      <td>6.88858</td>\n",
              "    </tr>\n",
              "    <tr>\n",
              "      <th>54</th>\n",
              "      <td>2015</td>\n",
              "      <td>6.89021</td>\n",
              "    </tr>\n",
              "    <tr>\n",
              "      <th>55</th>\n",
              "      <td>2016</td>\n",
              "      <td>6.89184</td>\n",
              "    </tr>\n",
              "  </tbody>\n",
              "</table>\n",
              "</div>"
            ],
            "text/plain": [
              "    year    value\n",
              "46  2007  7.17901\n",
              "47  2008  7.10516\n",
              "48  2009  7.03141\n",
              "49  2010  6.95756\n",
              "50  2011  6.88370\n",
              "51  2012  6.88533\n",
              "52  2013  6.88696\n",
              "53  2014  6.88858\n",
              "54  2015  6.89021\n",
              "55  2016  6.89184"
            ]
          },
          "metadata": {
            "tags": []
          },
          "execution_count": 18
        }
      ]
    },
    {
      "cell_type": "markdown",
      "metadata": {
        "id": "R1CKgYj0Zj2J",
        "colab_type": "text"
      },
      "source": [
        "#CDN farm amount dataframe"
      ]
    },
    {
      "cell_type": "code",
      "metadata": {
        "id": "D-E4QI_yZeXI",
        "colab_type": "code",
        "colab": {
          "base_uri": "https://localhost:8080/",
          "height": 204
        },
        "outputId": "6148cf68-6e45-4af7-d71a-cdfd3e28e196"
      },
      "source": [
        "# Depreciated data\n",
        "# Number of farms is not an accurate representation of the overall amount of farm area\n",
        "# as more populated provinces have an increase in smaller operations while the main\n",
        "# agricultural provinces have fewer but much larger fields\n",
        "cdn_farm_df = pd.read_csv('https://github.com/Vanagand/DS-Unit-1-Build/raw/master/cdn_total_farm.csv')\n",
        "\n",
        "cdn_farm_df.head()"
      ],
      "execution_count": 367,
      "outputs": [
        {
          "output_type": "execute_result",
          "data": {
            "text/html": [
              "<div>\n",
              "<style scoped>\n",
              "    .dataframe tbody tr th:only-of-type {\n",
              "        vertical-align: middle;\n",
              "    }\n",
              "\n",
              "    .dataframe tbody tr th {\n",
              "        vertical-align: top;\n",
              "    }\n",
              "\n",
              "    .dataframe thead th {\n",
              "        text-align: right;\n",
              "    }\n",
              "</style>\n",
              "<table border=\"1\" class=\"dataframe\">\n",
              "  <thead>\n",
              "    <tr style=\"text-align: right;\">\n",
              "      <th></th>\n",
              "      <th>date</th>\n",
              "      <th>geo</th>\n",
              "      <th>farm_class</th>\n",
              "      <th>uom</th>\n",
              "      <th>value</th>\n",
              "    </tr>\n",
              "  </thead>\n",
              "  <tbody>\n",
              "    <tr>\n",
              "      <th>0</th>\n",
              "      <td>2011</td>\n",
              "      <td>Canada</td>\n",
              "      <td>Total number of farms</td>\n",
              "      <td>number</td>\n",
              "      <td>205730</td>\n",
              "    </tr>\n",
              "    <tr>\n",
              "      <th>1</th>\n",
              "      <td>2016</td>\n",
              "      <td>Canada</td>\n",
              "      <td>Total number of farms</td>\n",
              "      <td>number</td>\n",
              "      <td>193492</td>\n",
              "    </tr>\n",
              "    <tr>\n",
              "      <th>2</th>\n",
              "      <td>2011</td>\n",
              "      <td>Canada</td>\n",
              "      <td>Farms under 10 acres</td>\n",
              "      <td>number</td>\n",
              "      <td>12991</td>\n",
              "    </tr>\n",
              "    <tr>\n",
              "      <th>3</th>\n",
              "      <td>2016</td>\n",
              "      <td>Canada</td>\n",
              "      <td>Farms under 10 acres</td>\n",
              "      <td>number</td>\n",
              "      <td>13193</td>\n",
              "    </tr>\n",
              "    <tr>\n",
              "      <th>4</th>\n",
              "      <td>2011</td>\n",
              "      <td>Canada</td>\n",
              "      <td>Farms 10 to 69 acres</td>\n",
              "      <td>number</td>\n",
              "      <td>32705</td>\n",
              "    </tr>\n",
              "  </tbody>\n",
              "</table>\n",
              "</div>"
            ],
            "text/plain": [
              "   date     geo             farm_class     uom   value\n",
              "0  2011  Canada  Total number of farms  number  205730\n",
              "1  2016  Canada  Total number of farms  number  193492\n",
              "2  2011  Canada   Farms under 10 acres  number   12991\n",
              "3  2016  Canada   Farms under 10 acres  number   13193\n",
              "4  2011  Canada   Farms 10 to 69 acres  number   32705"
            ]
          },
          "metadata": {
            "tags": []
          },
          "execution_count": 367
        }
      ]
    },
    {
      "cell_type": "code",
      "metadata": {
        "id": "eAuTVr4Ke3Nr",
        "colab_type": "code",
        "colab": {}
      },
      "source": [
        "total_farm_2011_condition = (cdn_farm_df['farm_class'] == 'Total number of farms') & (cdn_farm_df['date'] == 2011) & (cdn_farm_df['geo'] != 'Canada')\n",
        "cdn_farm_total_2011_df = cdn_farm_df[total_farm_2011_condition].drop(['uom'], axis=1)\n",
        "total_farm_2016_condition = (cdn_farm_df['farm_class'] == 'Total number of farms') & (cdn_farm_df['date'] == 2016) & (cdn_farm_df['geo'] != 'Canada')\n",
        "cdn_farm_total_2016_df = cdn_farm_df[total_farm_2016_condition].drop(['uom'], axis=1)"
      ],
      "execution_count": 0,
      "outputs": []
    },
    {
      "cell_type": "code",
      "metadata": {
        "id": "RDpHT4iwmQS0",
        "colab_type": "code",
        "colab": {
          "base_uri": "https://localhost:8080/",
          "height": 340
        },
        "outputId": "a2ecb282-e983-4522-c564-22a136a5c96e"
      },
      "source": [
        "print(cdn_farm_total_2011_df.describe())\n",
        "print('')\n",
        "print(cdn_farm_total_2016_df.describe())"
      ],
      "execution_count": 369,
      "outputs": [
        {
          "output_type": "stream",
          "text": [
            "         date         value\n",
            "count    10.0     10.000000\n",
            "mean   2011.0  20573.000000\n",
            "std       0.0  18957.683637\n",
            "min    2011.0    510.000000\n",
            "25%    2011.0   2934.500000\n",
            "50%    2011.0  17818.000000\n",
            "75%    2011.0  35073.250000\n",
            "max    2011.0  51950.000000\n",
            "\n",
            "         date         value\n",
            "count    10.0     10.000000\n",
            "mean   2016.0  19349.200000\n",
            "std       0.0  18077.057158\n",
            "min    2016.0    407.000000\n",
            "25%    2016.0   2560.750000\n",
            "50%    2016.0  16159.500000\n",
            "75%    2016.0  33122.000000\n",
            "max    2016.0  49600.000000\n"
          ],
          "name": "stdout"
        }
      ]
    },
    {
      "cell_type": "code",
      "metadata": {
        "id": "wVw9IAeEtRhL",
        "colab_type": "code",
        "colab": {
          "base_uri": "https://localhost:8080/",
          "height": 359
        },
        "outputId": "348d9aa4-2feb-4e34-de43-db60d51b8180"
      },
      "source": [
        "cdn_farm_total_2011_df"
      ],
      "execution_count": 640,
      "outputs": [
        {
          "output_type": "execute_result",
          "data": {
            "text/html": [
              "<div>\n",
              "<style scoped>\n",
              "    .dataframe tbody tr th:only-of-type {\n",
              "        vertical-align: middle;\n",
              "    }\n",
              "\n",
              "    .dataframe tbody tr th {\n",
              "        vertical-align: top;\n",
              "    }\n",
              "\n",
              "    .dataframe thead th {\n",
              "        text-align: right;\n",
              "    }\n",
              "</style>\n",
              "<table border=\"1\" class=\"dataframe\">\n",
              "  <thead>\n",
              "    <tr style=\"text-align: right;\">\n",
              "      <th></th>\n",
              "      <th>date</th>\n",
              "      <th>geo</th>\n",
              "      <th>farm_class</th>\n",
              "      <th>value</th>\n",
              "    </tr>\n",
              "  </thead>\n",
              "  <tbody>\n",
              "    <tr>\n",
              "      <th>30</th>\n",
              "      <td>2011</td>\n",
              "      <td>Newfoundland and Labrador</td>\n",
              "      <td>Total number of farms</td>\n",
              "      <td>510</td>\n",
              "    </tr>\n",
              "    <tr>\n",
              "      <th>60</th>\n",
              "      <td>2011</td>\n",
              "      <td>Prince Edward Island</td>\n",
              "      <td>Total number of farms</td>\n",
              "      <td>1495</td>\n",
              "    </tr>\n",
              "    <tr>\n",
              "      <th>90</th>\n",
              "      <td>2011</td>\n",
              "      <td>Nova Scotia</td>\n",
              "      <td>Total number of farms</td>\n",
              "      <td>3905</td>\n",
              "    </tr>\n",
              "    <tr>\n",
              "      <th>120</th>\n",
              "      <td>2011</td>\n",
              "      <td>New Brunswick</td>\n",
              "      <td>Total number of farms</td>\n",
              "      <td>2611</td>\n",
              "    </tr>\n",
              "    <tr>\n",
              "      <th>150</th>\n",
              "      <td>2011</td>\n",
              "      <td>Quebec</td>\n",
              "      <td>Total number of farms</td>\n",
              "      <td>29437</td>\n",
              "    </tr>\n",
              "    <tr>\n",
              "      <th>180</th>\n",
              "      <td>2011</td>\n",
              "      <td>Ontario</td>\n",
              "      <td>Total number of farms</td>\n",
              "      <td>51950</td>\n",
              "    </tr>\n",
              "    <tr>\n",
              "      <th>210</th>\n",
              "      <td>2011</td>\n",
              "      <td>Manitoba</td>\n",
              "      <td>Total number of farms</td>\n",
              "      <td>15877</td>\n",
              "    </tr>\n",
              "    <tr>\n",
              "      <th>240</th>\n",
              "      <td>2011</td>\n",
              "      <td>Saskatchewan</td>\n",
              "      <td>Total number of farms</td>\n",
              "      <td>36952</td>\n",
              "    </tr>\n",
              "    <tr>\n",
              "      <th>270</th>\n",
              "      <td>2011</td>\n",
              "      <td>Alberta</td>\n",
              "      <td>Total number of farms</td>\n",
              "      <td>43234</td>\n",
              "    </tr>\n",
              "    <tr>\n",
              "      <th>300</th>\n",
              "      <td>2011</td>\n",
              "      <td>British Columbia</td>\n",
              "      <td>Total number of farms</td>\n",
              "      <td>19759</td>\n",
              "    </tr>\n",
              "  </tbody>\n",
              "</table>\n",
              "</div>"
            ],
            "text/plain": [
              "     date                        geo             farm_class  value\n",
              "30   2011  Newfoundland and Labrador  Total number of farms    510\n",
              "60   2011       Prince Edward Island  Total number of farms   1495\n",
              "90   2011                Nova Scotia  Total number of farms   3905\n",
              "120  2011              New Brunswick  Total number of farms   2611\n",
              "150  2011                     Quebec  Total number of farms  29437\n",
              "180  2011                    Ontario  Total number of farms  51950\n",
              "210  2011                   Manitoba  Total number of farms  15877\n",
              "240  2011               Saskatchewan  Total number of farms  36952\n",
              "270  2011                    Alberta  Total number of farms  43234\n",
              "300  2011           British Columbia  Total number of farms  19759"
            ]
          },
          "metadata": {
            "tags": []
          },
          "execution_count": 640
        }
      ]
    },
    {
      "cell_type": "code",
      "metadata": {
        "id": "Z9ZoceBbHZZA",
        "colab_type": "code",
        "colab": {
          "base_uri": "https://localhost:8080/",
          "height": 359
        },
        "outputId": "cbaef954-1c16-47be-8e16-e70a531536b9"
      },
      "source": [
        "cdn_farm_total_2016_df"
      ],
      "execution_count": 639,
      "outputs": [
        {
          "output_type": "execute_result",
          "data": {
            "text/html": [
              "<div>\n",
              "<style scoped>\n",
              "    .dataframe tbody tr th:only-of-type {\n",
              "        vertical-align: middle;\n",
              "    }\n",
              "\n",
              "    .dataframe tbody tr th {\n",
              "        vertical-align: top;\n",
              "    }\n",
              "\n",
              "    .dataframe thead th {\n",
              "        text-align: right;\n",
              "    }\n",
              "</style>\n",
              "<table border=\"1\" class=\"dataframe\">\n",
              "  <thead>\n",
              "    <tr style=\"text-align: right;\">\n",
              "      <th></th>\n",
              "      <th>date</th>\n",
              "      <th>geo</th>\n",
              "      <th>farm_class</th>\n",
              "      <th>value</th>\n",
              "    </tr>\n",
              "  </thead>\n",
              "  <tbody>\n",
              "    <tr>\n",
              "      <th>31</th>\n",
              "      <td>2016</td>\n",
              "      <td>Newfoundland and Labrador</td>\n",
              "      <td>Total number of farms</td>\n",
              "      <td>407</td>\n",
              "    </tr>\n",
              "    <tr>\n",
              "      <th>61</th>\n",
              "      <td>2016</td>\n",
              "      <td>Prince Edward Island</td>\n",
              "      <td>Total number of farms</td>\n",
              "      <td>1353</td>\n",
              "    </tr>\n",
              "    <tr>\n",
              "      <th>91</th>\n",
              "      <td>2016</td>\n",
              "      <td>Nova Scotia</td>\n",
              "      <td>Total number of farms</td>\n",
              "      <td>3478</td>\n",
              "    </tr>\n",
              "    <tr>\n",
              "      <th>121</th>\n",
              "      <td>2016</td>\n",
              "      <td>New Brunswick</td>\n",
              "      <td>Total number of farms</td>\n",
              "      <td>2255</td>\n",
              "    </tr>\n",
              "    <tr>\n",
              "      <th>151</th>\n",
              "      <td>2016</td>\n",
              "      <td>Quebec</td>\n",
              "      <td>Total number of farms</td>\n",
              "      <td>28919</td>\n",
              "    </tr>\n",
              "    <tr>\n",
              "      <th>181</th>\n",
              "      <td>2016</td>\n",
              "      <td>Ontario</td>\n",
              "      <td>Total number of farms</td>\n",
              "      <td>49600</td>\n",
              "    </tr>\n",
              "    <tr>\n",
              "      <th>211</th>\n",
              "      <td>2016</td>\n",
              "      <td>Manitoba</td>\n",
              "      <td>Total number of farms</td>\n",
              "      <td>14791</td>\n",
              "    </tr>\n",
              "    <tr>\n",
              "      <th>241</th>\n",
              "      <td>2016</td>\n",
              "      <td>Saskatchewan</td>\n",
              "      <td>Total number of farms</td>\n",
              "      <td>34523</td>\n",
              "    </tr>\n",
              "    <tr>\n",
              "      <th>271</th>\n",
              "      <td>2016</td>\n",
              "      <td>Alberta</td>\n",
              "      <td>Total number of farms</td>\n",
              "      <td>40638</td>\n",
              "    </tr>\n",
              "    <tr>\n",
              "      <th>301</th>\n",
              "      <td>2016</td>\n",
              "      <td>British Columbia</td>\n",
              "      <td>Total number of farms</td>\n",
              "      <td>17528</td>\n",
              "    </tr>\n",
              "  </tbody>\n",
              "</table>\n",
              "</div>"
            ],
            "text/plain": [
              "     date                        geo             farm_class  value\n",
              "31   2016  Newfoundland and Labrador  Total number of farms    407\n",
              "61   2016       Prince Edward Island  Total number of farms   1353\n",
              "91   2016                Nova Scotia  Total number of farms   3478\n",
              "121  2016              New Brunswick  Total number of farms   2255\n",
              "151  2016                     Quebec  Total number of farms  28919\n",
              "181  2016                    Ontario  Total number of farms  49600\n",
              "211  2016                   Manitoba  Total number of farms  14791\n",
              "241  2016               Saskatchewan  Total number of farms  34523\n",
              "271  2016                    Alberta  Total number of farms  40638\n",
              "301  2016           British Columbia  Total number of farms  17528"
            ]
          },
          "metadata": {
            "tags": []
          },
          "execution_count": 639
        }
      ]
    }
  ]
}