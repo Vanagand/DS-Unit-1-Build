{
  "nbformat": 4,
  "nbformat_minor": 0,
  "metadata": {
    "colab": {
      "name": "DS-Unit-1-Build.ipynb",
      "provenance": [],
      "collapsed_sections": [],
      "include_colab_link": true
    },
    "kernelspec": {
      "name": "python3",
      "display_name": "Python 3"
    }
  },
  "cells": [
    {
      "cell_type": "markdown",
      "metadata": {
        "id": "view-in-github",
        "colab_type": "text"
      },
      "source": [
        "<a href=\"https://colab.research.google.com/github/Vanagand/DS-Unit-1-Build/blob/master/DS_Unit_1_Build.ipynb\" target=\"_parent\"><img src=\"https://colab.research.google.com/assets/colab-badge.svg\" alt=\"Open In Colab\"/></a>"
      ]
    },
    {
      "cell_type": "markdown",
      "metadata": {
        "id": "ot_dpRoxom_0",
        "colab_type": "text"
      },
      "source": [
        "#Data Import"
      ]
    },
    {
      "cell_type": "code",
      "metadata": {
        "id": "592XcNCLISCP",
        "colab_type": "code",
        "colab": {}
      },
      "source": [
        "import pandas as pd\n",
        "import numpy as np\n",
        "import matplotlib.pyplot as plt\n",
        "import seaborn as sns\n",
        "import math\n",
        "from matplotlib.font_manager import FontProperties"
      ],
      "execution_count": 0,
      "outputs": []
    },
    {
      "cell_type": "code",
      "metadata": {
        "id": "Tcm5v382lh7E",
        "colab_type": "code",
        "outputId": "c699cc0b-4a98-4aa7-e7a9-3997544bcefc",
        "colab": {
          "base_uri": "https://localhost:8080/",
          "height": 204
        }
      },
      "source": [
        "cdn_agro_land_df = pd.read_csv('https://github.com/Vanagand/DS-Unit-1-Build/raw/master/cnd_agro_land_area.csv')\n",
        "\n",
        "# .drop(['input'], axis=int, inplace=bool)\n",
        "# .reset_index()\n",
        "# .rename({'input':'output', 'input': 'output'}, axis=int)\n",
        "\n",
        "cdn_agro_land_df.head()"
      ],
      "execution_count": 3,
      "outputs": [
        {
          "output_type": "execute_result",
          "data": {
            "text/html": [
              "<div>\n",
              "<style scoped>\n",
              "    .dataframe tbody tr th:only-of-type {\n",
              "        vertical-align: middle;\n",
              "    }\n",
              "\n",
              "    .dataframe tbody tr th {\n",
              "        vertical-align: top;\n",
              "    }\n",
              "\n",
              "    .dataframe thead th {\n",
              "        text-align: right;\n",
              "    }\n",
              "</style>\n",
              "<table border=\"1\" class=\"dataframe\">\n",
              "  <thead>\n",
              "    <tr style=\"text-align: right;\">\n",
              "      <th></th>\n",
              "      <th>year</th>\n",
              "      <th>area</th>\n",
              "    </tr>\n",
              "  </thead>\n",
              "  <tbody>\n",
              "    <tr>\n",
              "      <th>0</th>\n",
              "      <td>1961</td>\n",
              "      <td>698250.0</td>\n",
              "    </tr>\n",
              "    <tr>\n",
              "      <th>1</th>\n",
              "      <td>1962</td>\n",
              "      <td>699530.0</td>\n",
              "    </tr>\n",
              "    <tr>\n",
              "      <th>2</th>\n",
              "      <td>1963</td>\n",
              "      <td>700810.0</td>\n",
              "    </tr>\n",
              "    <tr>\n",
              "      <th>3</th>\n",
              "      <td>1964</td>\n",
              "      <td>702080.0</td>\n",
              "    </tr>\n",
              "    <tr>\n",
              "      <th>4</th>\n",
              "      <td>1965</td>\n",
              "      <td>703370.0</td>\n",
              "    </tr>\n",
              "  </tbody>\n",
              "</table>\n",
              "</div>"
            ],
            "text/plain": [
              "   year      area\n",
              "0  1961  698250.0\n",
              "1  1962  699530.0\n",
              "2  1963  700810.0\n",
              "3  1964  702080.0\n",
              "4  1965  703370.0"
            ]
          },
          "metadata": {
            "tags": []
          },
          "execution_count": 3
        }
      ]
    },
    {
      "cell_type": "code",
      "metadata": {
        "id": "GfNtwXWvylVh",
        "colab_type": "code",
        "outputId": "46ba9012-31d8-475b-d2a1-cea358c9ddda",
        "colab": {
          "base_uri": "https://localhost:8080/",
          "height": 204
        }
      },
      "source": [
        "def val_to_int(val_content): # Feature to_int\n",
        "  return int(val_content)\n",
        "\n",
        "cdn_agro_land_df['area'] = cdn_agro_land_df['area'].apply(val_to_int)\n",
        "\n",
        "cdn_agro_land_df.head()"
      ],
      "execution_count": 4,
      "outputs": [
        {
          "output_type": "execute_result",
          "data": {
            "text/html": [
              "<div>\n",
              "<style scoped>\n",
              "    .dataframe tbody tr th:only-of-type {\n",
              "        vertical-align: middle;\n",
              "    }\n",
              "\n",
              "    .dataframe tbody tr th {\n",
              "        vertical-align: top;\n",
              "    }\n",
              "\n",
              "    .dataframe thead th {\n",
              "        text-align: right;\n",
              "    }\n",
              "</style>\n",
              "<table border=\"1\" class=\"dataframe\">\n",
              "  <thead>\n",
              "    <tr style=\"text-align: right;\">\n",
              "      <th></th>\n",
              "      <th>year</th>\n",
              "      <th>area</th>\n",
              "    </tr>\n",
              "  </thead>\n",
              "  <tbody>\n",
              "    <tr>\n",
              "      <th>0</th>\n",
              "      <td>1961</td>\n",
              "      <td>698250</td>\n",
              "    </tr>\n",
              "    <tr>\n",
              "      <th>1</th>\n",
              "      <td>1962</td>\n",
              "      <td>699530</td>\n",
              "    </tr>\n",
              "    <tr>\n",
              "      <th>2</th>\n",
              "      <td>1963</td>\n",
              "      <td>700810</td>\n",
              "    </tr>\n",
              "    <tr>\n",
              "      <th>3</th>\n",
              "      <td>1964</td>\n",
              "      <td>702080</td>\n",
              "    </tr>\n",
              "    <tr>\n",
              "      <th>4</th>\n",
              "      <td>1965</td>\n",
              "      <td>703370</td>\n",
              "    </tr>\n",
              "  </tbody>\n",
              "</table>\n",
              "</div>"
            ],
            "text/plain": [
              "   year    area\n",
              "0  1961  698250\n",
              "1  1962  699530\n",
              "2  1963  700810\n",
              "3  1964  702080\n",
              "4  1965  703370"
            ]
          },
          "metadata": {
            "tags": []
          },
          "execution_count": 4
        }
      ]
    },
    {
      "cell_type": "code",
      "metadata": {
        "id": "ybcagWjG1fzR",
        "colab_type": "code",
        "outputId": "cd5ad087-4ecb-4f64-9efc-743227bd824d",
        "colab": {
          "base_uri": "https://localhost:8080/",
          "height": 297
        }
      },
      "source": [
        "round(cdn_agro_land_df.describe(), 1)"
      ],
      "execution_count": 5,
      "outputs": [
        {
          "output_type": "execute_result",
          "data": {
            "text/html": [
              "<div>\n",
              "<style scoped>\n",
              "    .dataframe tbody tr th:only-of-type {\n",
              "        vertical-align: middle;\n",
              "    }\n",
              "\n",
              "    .dataframe tbody tr th {\n",
              "        vertical-align: top;\n",
              "    }\n",
              "\n",
              "    .dataframe thead th {\n",
              "        text-align: right;\n",
              "    }\n",
              "</style>\n",
              "<table border=\"1\" class=\"dataframe\">\n",
              "  <thead>\n",
              "    <tr style=\"text-align: right;\">\n",
              "      <th></th>\n",
              "      <th>year</th>\n",
              "      <th>area</th>\n",
              "    </tr>\n",
              "  </thead>\n",
              "  <tbody>\n",
              "    <tr>\n",
              "      <th>count</th>\n",
              "      <td>56.0</td>\n",
              "      <td>56.0</td>\n",
              "    </tr>\n",
              "    <tr>\n",
              "      <th>mean</th>\n",
              "      <td>1988.5</td>\n",
              "      <td>672567.4</td>\n",
              "    </tr>\n",
              "    <tr>\n",
              "      <th>std</th>\n",
              "      <td>16.3</td>\n",
              "      <td>21746.3</td>\n",
              "    </tr>\n",
              "    <tr>\n",
              "      <th>min</th>\n",
              "      <td>1961.0</td>\n",
              "      <td>625970.0</td>\n",
              "    </tr>\n",
              "    <tr>\n",
              "      <th>25%</th>\n",
              "      <td>1974.8</td>\n",
              "      <td>665970.0</td>\n",
              "    </tr>\n",
              "    <tr>\n",
              "      <th>50%</th>\n",
              "      <td>1988.5</td>\n",
              "      <td>677750.0</td>\n",
              "    </tr>\n",
              "    <tr>\n",
              "      <th>75%</th>\n",
              "      <td>2002.2</td>\n",
              "      <td>684837.5</td>\n",
              "    </tr>\n",
              "    <tr>\n",
              "      <th>max</th>\n",
              "      <td>2016.0</td>\n",
              "      <td>704640.0</td>\n",
              "    </tr>\n",
              "  </tbody>\n",
              "</table>\n",
              "</div>"
            ],
            "text/plain": [
              "         year      area\n",
              "count    56.0      56.0\n",
              "mean   1988.5  672567.4\n",
              "std      16.3   21746.3\n",
              "min    1961.0  625970.0\n",
              "25%    1974.8  665970.0\n",
              "50%    1988.5  677750.0\n",
              "75%    2002.2  684837.5\n",
              "max    2016.0  704640.0"
            ]
          },
          "metadata": {
            "tags": []
          },
          "execution_count": 5
        }
      ]
    },
    {
      "cell_type": "code",
      "metadata": {
        "id": "cxP8rCnwxycZ",
        "colab_type": "code",
        "outputId": "a0bda470-baa8-4259-91d8-73dddcb14333",
        "colab": {
          "base_uri": "https://localhost:8080/",
          "height": 554
        }
      },
      "source": [
        "fig, ax = plt.subplots(figsize=(18, 8))\n",
        "\n",
        "font = FontProperties()\n",
        "font.set_style('normal')\n",
        "\n",
        "fig.patch.set(facecolor='#F2F2F2') # Background (exterior)\n",
        "ax.set(facecolor='#F2F2F2') # Axes background (interior)\n",
        "\n",
        "plt.style.use('seaborn-ticks')\n",
        "\n",
        "plt.title(x=-0.05, y=1.09, label=\"Agricultural Land Area\", \n",
        "          ha='left', fontproperties=font, weight='bold', fontsize=35, \n",
        "          color='#333333', transform=ax.transAxes)\n",
        "ax.text(x=-0.05, y=1.0315, s='(thousand hectares)', \n",
        "        ha='left', weight='normal', fontsize=20, color='#333333', \n",
        "        transform=ax.transAxes)\n",
        "\n",
        "plt.bar(cdn_agro_land_df['year'], cdn_agro_land_df['area'], \n",
        "        width=0.8, align='center', color='#8C0808')\n",
        "# plt.axvline(x=0, linestyle='--', color='black', linewidth=1, alpha=0.2)\n",
        "# plt.axhline(y=0, linestyle='--', color='black', linewidth=1, alpha=0.2)\n",
        "ax.tick_params(axis='both', which='both', labelsize=12, \n",
        "               bottom=False, top=False, labelbottom=True,\n",
        "               left=True, right=False, labelleft=True)\n",
        "\n",
        "ax.set_xticklabels(['1960', '1970', '1980', '1990', '2000', '2010'], \n",
        "                   size=15, weight='bold', color='#333333')\n",
        "ax.set_yticklabels(range(600000, 710000, 20000), \n",
        "                   size=15, weight='bold', color='#333333')\n",
        "\n",
        "ax.grid(True, 'major', 'y', ls='--', lw=1, c='#333333', alpha=.2)\n",
        "\n",
        "plt.xlim(1960, 2017)\n",
        "plt.ylim(605970, 710000)\n",
        "\n",
        "ax.spines['left'].set_visible(True)\n",
        "ax.spines['left'].set_smart_bounds(True)\n",
        "ax.spines['left'].set_linewidth(2.5)\n",
        "ax.spines['left'].set_capstyle(\"round\")\n",
        "ax.spines['right'].set_visible(False)\n",
        "ax.spines['top'].set_visible(False)\n",
        "ax.spines['bottom'].set_visible(True)\n",
        "ax.spines['bottom'].set_smart_bounds(True)\n",
        "ax.spines['bottom'].set_linewidth(2.5)\n",
        "ax.spines['bottom'].set_capstyle(\"round\")\n",
        "\n",
        "plt.show()"
      ],
      "execution_count": 290,
      "outputs": [
        {
          "output_type": "display_data",
          "data": {
            "image/png": "[encoded data removed]",
            "text/plain": [
              "<Figure size 1296x576 with 1 Axes>"
            ]
          },
          "metadata": {
            "tags": []
          }
        }
      ]
    },
    {
      "cell_type": "code",
      "metadata": {
        "id": "4sDr3hjZBxeZ",
        "colab_type": "code",
        "outputId": "dc64ff03-cd57-4acb-93e3-1948f93082eb",
        "colab": {
          "base_uri": "https://localhost:8080/",
          "height": 204
        }
      },
      "source": [
        "cdn_incidence_df = pd.read_csv('https://github.com/Vanagand/DS-Unit-1-Build/raw/master/cdn_cancer_1990_2016_incidence.csv?raw=true')\n",
        "\n",
        "cdn_incidence_df.head()"
      ],
      "execution_count": 7,
      "outputs": [
        {
          "output_type": "execute_result",
          "data": {
            "text/html": [
              "<div>\n",
              "<style scoped>\n",
              "    .dataframe tbody tr th:only-of-type {\n",
              "        vertical-align: middle;\n",
              "    }\n",
              "\n",
              "    .dataframe tbody tr th {\n",
              "        vertical-align: top;\n",
              "    }\n",
              "\n",
              "    .dataframe thead th {\n",
              "        text-align: right;\n",
              "    }\n",
              "</style>\n",
              "<table border=\"1\" class=\"dataframe\">\n",
              "  <thead>\n",
              "    <tr style=\"text-align: right;\">\n",
              "      <th></th>\n",
              "      <th>location</th>\n",
              "      <th>sex</th>\n",
              "      <th>age</th>\n",
              "      <th>cancer</th>\n",
              "      <th>metric</th>\n",
              "      <th>year</th>\n",
              "      <th>value</th>\n",
              "    </tr>\n",
              "  </thead>\n",
              "  <tbody>\n",
              "    <tr>\n",
              "      <th>0</th>\n",
              "      <td>Canada</td>\n",
              "      <td>Male</td>\n",
              "      <td>All Ages</td>\n",
              "      <td>Neoplasms</td>\n",
              "      <td>Number</td>\n",
              "      <td>2006</td>\n",
              "      <td>82699.527550</td>\n",
              "    </tr>\n",
              "    <tr>\n",
              "      <th>1</th>\n",
              "      <td>Canada</td>\n",
              "      <td>Female</td>\n",
              "      <td>All Ages</td>\n",
              "      <td>Neoplasms</td>\n",
              "      <td>Number</td>\n",
              "      <td>2006</td>\n",
              "      <td>75184.594900</td>\n",
              "    </tr>\n",
              "    <tr>\n",
              "      <th>2</th>\n",
              "      <td>Canada</td>\n",
              "      <td>Both</td>\n",
              "      <td>All Ages</td>\n",
              "      <td>Neoplasms</td>\n",
              "      <td>Number</td>\n",
              "      <td>2006</td>\n",
              "      <td>157884.122400</td>\n",
              "    </tr>\n",
              "    <tr>\n",
              "      <th>3</th>\n",
              "      <td>Canada</td>\n",
              "      <td>Male</td>\n",
              "      <td>All Ages</td>\n",
              "      <td>Neoplasms</td>\n",
              "      <td>Rate</td>\n",
              "      <td>2006</td>\n",
              "      <td>513.241567</td>\n",
              "    </tr>\n",
              "    <tr>\n",
              "      <th>4</th>\n",
              "      <td>Canada</td>\n",
              "      <td>Female</td>\n",
              "      <td>All Ages</td>\n",
              "      <td>Neoplasms</td>\n",
              "      <td>Rate</td>\n",
              "      <td>2006</td>\n",
              "      <td>458.344266</td>\n",
              "    </tr>\n",
              "  </tbody>\n",
              "</table>\n",
              "</div>"
            ],
            "text/plain": [
              "  location     sex       age     cancer  metric  year          value\n",
              "0   Canada    Male  All Ages  Neoplasms  Number  2006   82699.527550\n",
              "1   Canada  Female  All Ages  Neoplasms  Number  2006   75184.594900\n",
              "2   Canada    Both  All Ages  Neoplasms  Number  2006  157884.122400\n",
              "3   Canada    Male  All Ages  Neoplasms    Rate  2006     513.241567\n",
              "4   Canada  Female  All Ages  Neoplasms    Rate  2006     458.344266"
            ]
          },
          "metadata": {
            "tags": []
          },
          "execution_count": 7
        }
      ]
    },
    {
      "cell_type": "code",
      "metadata": {
        "id": "aG31ZBOwpidn",
        "colab_type": "code",
        "outputId": "32ca5184-0dfe-46bd-8b97-92a0fc957442",
        "colab": {
          "base_uri": "https://localhost:8080/",
          "height": 136
        }
      },
      "source": [
        "cdn_incidence_df['cancer'].value_counts().head(6)"
      ],
      "execution_count": 8,
      "outputs": [
        {
          "output_type": "execute_result",
          "data": {
            "text/plain": [
              "Gallbladder and biliary tract cancer    18\n",
              "Neoplasms                               18\n",
              "Malignant skin melanoma                 18\n",
              "Liver cancer due to alcohol use         18\n",
              "Nasopharynx cancer                      18\n",
              "Hodgkin lymphoma                        18\n",
              "Name: cancer, dtype: int64"
            ]
          },
          "metadata": {
            "tags": []
          },
          "execution_count": 8
        }
      ]
    },
    {
      "cell_type": "code",
      "metadata": {
        "id": "tUhbCkfOsraP",
        "colab_type": "code",
        "outputId": "3f2a19ac-f213-498b-b662-b3d10216cdfc",
        "colab": {
          "base_uri": "https://localhost:8080/",
          "height": 235
        }
      },
      "source": [
        "cancer_condition = (cdn_incidence_df['cancer'] == 'All causes') & (cdn_incidence_df['metric'] == 'Number')\n",
        "cdn_incidence_all_df = cdn_incidence_df[cancer_condition]\n",
        "\n",
        "cdn_incidence_all_df"
      ],
      "execution_count": 9,
      "outputs": [
        {
          "output_type": "execute_result",
          "data": {
            "text/html": [
              "<div>\n",
              "<style scoped>\n",
              "    .dataframe tbody tr th:only-of-type {\n",
              "        vertical-align: middle;\n",
              "    }\n",
              "\n",
              "    .dataframe tbody tr th {\n",
              "        vertical-align: top;\n",
              "    }\n",
              "\n",
              "    .dataframe thead th {\n",
              "        text-align: right;\n",
              "    }\n",
              "</style>\n",
              "<table border=\"1\" class=\"dataframe\">\n",
              "  <thead>\n",
              "    <tr style=\"text-align: right;\">\n",
              "      <th></th>\n",
              "      <th>location</th>\n",
              "      <th>sex</th>\n",
              "      <th>age</th>\n",
              "      <th>cancer</th>\n",
              "      <th>metric</th>\n",
              "      <th>year</th>\n",
              "      <th>value</th>\n",
              "    </tr>\n",
              "  </thead>\n",
              "  <tbody>\n",
              "    <tr>\n",
              "      <th>108</th>\n",
              "      <td>Canada</td>\n",
              "      <td>Male</td>\n",
              "      <td>All Ages</td>\n",
              "      <td>All causes</td>\n",
              "      <td>Number</td>\n",
              "      <td>2006</td>\n",
              "      <td>8.349612e+07</td>\n",
              "    </tr>\n",
              "    <tr>\n",
              "      <th>109</th>\n",
              "      <td>Canada</td>\n",
              "      <td>Female</td>\n",
              "      <td>All Ages</td>\n",
              "      <td>All causes</td>\n",
              "      <td>Number</td>\n",
              "      <td>2006</td>\n",
              "      <td>9.726829e+07</td>\n",
              "    </tr>\n",
              "    <tr>\n",
              "      <th>110</th>\n",
              "      <td>Canada</td>\n",
              "      <td>Both</td>\n",
              "      <td>All Ages</td>\n",
              "      <td>All causes</td>\n",
              "      <td>Number</td>\n",
              "      <td>2006</td>\n",
              "      <td>1.807644e+08</td>\n",
              "    </tr>\n",
              "    <tr>\n",
              "      <th>366</th>\n",
              "      <td>Canada</td>\n",
              "      <td>Male</td>\n",
              "      <td>All Ages</td>\n",
              "      <td>All causes</td>\n",
              "      <td>Number</td>\n",
              "      <td>2016</td>\n",
              "      <td>9.387475e+07</td>\n",
              "    </tr>\n",
              "    <tr>\n",
              "      <th>367</th>\n",
              "      <td>Canada</td>\n",
              "      <td>Female</td>\n",
              "      <td>All Ages</td>\n",
              "      <td>All causes</td>\n",
              "      <td>Number</td>\n",
              "      <td>2016</td>\n",
              "      <td>1.087100e+08</td>\n",
              "    </tr>\n",
              "    <tr>\n",
              "      <th>368</th>\n",
              "      <td>Canada</td>\n",
              "      <td>Both</td>\n",
              "      <td>All Ages</td>\n",
              "      <td>All causes</td>\n",
              "      <td>Number</td>\n",
              "      <td>2016</td>\n",
              "      <td>2.025848e+08</td>\n",
              "    </tr>\n",
              "  </tbody>\n",
              "</table>\n",
              "</div>"
            ],
            "text/plain": [
              "    location     sex       age      cancer  metric  year         value\n",
              "108   Canada    Male  All Ages  All causes  Number  2006  8.349612e+07\n",
              "109   Canada  Female  All Ages  All causes  Number  2006  9.726829e+07\n",
              "110   Canada    Both  All Ages  All causes  Number  2006  1.807644e+08\n",
              "366   Canada    Male  All Ages  All causes  Number  2016  9.387475e+07\n",
              "367   Canada  Female  All Ages  All causes  Number  2016  1.087100e+08\n",
              "368   Canada    Both  All Ages  All causes  Number  2016  2.025848e+08"
            ]
          },
          "metadata": {
            "tags": []
          },
          "execution_count": 9
        }
      ]
    },
    {
      "cell_type": "code",
      "metadata": {
        "id": "PaqMYjPaxuxM",
        "colab_type": "code",
        "colab": {}
      },
      "source": [
        ""
      ],
      "execution_count": 0,
      "outputs": []
    },
    {
      "cell_type": "code",
      "metadata": {
        "id": "Q4nylFl5wfRF",
        "colab_type": "code",
        "outputId": "c3e94c99-ab21-43c1-babc-fcc31c350115",
        "colab": {
          "base_uri": "https://localhost:8080/",
          "height": 609
        }
      },
      "source": [
        "plt.style.use('ggplot')\n",
        "plt.figure(figsize=(15, 10)) # Cluster graph \n",
        "plt.title(\"Cancer Incidence\")\n",
        "plt.scatter(cdn_incidence_all_df['value'], cdn_incidence_all_df['year'])\n",
        "\n",
        "plt.xlim(2005, 2017)\n",
        "plt.ylim(0, 100)\n",
        "plt.show()"
      ],
      "execution_count": 10,
      "outputs": [
        {
          "output_type": "display_data",
          "data": {
            "image/png": "[encoded data removed]",
            "text/plain": [
              "<Figure size 1080x720 with 1 Axes>"
            ]
          },
          "metadata": {
            "tags": []
          }
        }
      ]
    },
    {
      "cell_type": "code",
      "metadata": {
        "id": "6DIicgRWxp9Z",
        "colab_type": "code",
        "colab": {
          "base_uri": "https://localhost:8080/",
          "height": 204
        },
        "outputId": "f13703c5-a5b7-4f2a-aa9a-64c87a88a331"
      },
      "source": [
        "cdn_cancer_2013_2017_df = pd.read_csv('https://github.com/Vanagand/DS-Unit-1-Build/raw/master/cdn_cancer_2013_2017.csv')\n",
        "\n",
        "# Isolating cancer incidents by province\n",
        "geo_pe = (cdn_cancer_2013_2017_df['geo'] == 'Prince Edward Island') &\\\n",
        "(cdn_cancer_2013_2017_df['uom'] == 'Number')\n",
        "geo_cdn = (cdn_cancer_2013_2017_df['geo'] == 'Canada (excluding Quebec)') &\\\n",
        " (cdn_cancer_2013_2017_df['uom'] == 'Number')\n",
        "geo_sk = (cdn_cancer_2013_2017_df['geo'] == 'Saskatchewan') &\\\n",
        " (cdn_cancer_2013_2017_df['uom'] == 'Number')\n",
        "geo_nb = (cdn_cancer_2013_2017_df['geo'] == 'New Brunswick') &\\\n",
        " (cdn_cancer_2013_2017_df['uom'] == 'Number')\n",
        "geo_nt = (cdn_cancer_2013_2017_df['geo'] == 'Northwest Territories') &\\\n",
        " (cdn_cancer_2013_2017_df['uom'] == 'Number')\n",
        "geo_nu = (cdn_cancer_2013_2017_df['geo'] == 'Nunavut') &\\\n",
        " (cdn_cancer_2013_2017_df['uom'] == 'Number')\n",
        "geo_mb = (cdn_cancer_2013_2017_df['geo'] == 'Manitoba') &\\\n",
        " (cdn_cancer_2013_2017_df['uom'] == 'Number')\n",
        "geo_ns = (cdn_cancer_2013_2017_df['geo'] == 'Nova Scotia') &\\\n",
        " (cdn_cancer_2013_2017_df['uom'] == 'Number')\n",
        "geo_on = (cdn_cancer_2013_2017_df['geo'] == 'Ontario') &\\\n",
        " (cdn_cancer_2013_2017_df['uom'] == 'Number')\n",
        "geo_nl = (cdn_cancer_2013_2017_df['geo'] == 'Newfoundland and Labrador') &\\\n",
        " (cdn_cancer_2013_2017_df['uom'] == 'Number')\n",
        "geo_bc = (cdn_cancer_2013_2017_df['geo'] == 'British Columbia') &\\\n",
        " (cdn_cancer_2013_2017_df['uom'] == 'Number')\n",
        "geo_ab = (cdn_cancer_2013_2017_df['geo'] == 'Alberta') &\\\n",
        " (cdn_cancer_2013_2017_df['uom'] == 'Number')\n",
        "geo_yt = (cdn_cancer_2013_2017_df['geo'] == 'Yukon') &\\\n",
        " (cdn_cancer_2013_2017_df['uom'] == 'Number')\n",
        "geo_all = (cdn_cancer_2013_2017_df['geo'] != 'Canada (excluding Quebec)') &\\\n",
        " (cdn_cancer_2013_2017_df['uom'] == 'Number')\n",
        "\n",
        "all_cdn = cdn_cancer_2013_2017_df[geo_all]\n",
        "\n",
        "cdn_cancer_2013_2017_df[geo_yt]\n"
      ],
      "execution_count": 11,
      "outputs": [
        {
          "output_type": "execute_result",
          "data": {
            "text/html": [
              "<div>\n",
              "<style scoped>\n",
              "    .dataframe tbody tr th:only-of-type {\n",
              "        vertical-align: middle;\n",
              "    }\n",
              "\n",
              "    .dataframe tbody tr th {\n",
              "        vertical-align: top;\n",
              "    }\n",
              "\n",
              "    .dataframe thead th {\n",
              "        text-align: right;\n",
              "    }\n",
              "</style>\n",
              "<table border=\"1\" class=\"dataframe\">\n",
              "  <thead>\n",
              "    <tr style=\"text-align: right;\">\n",
              "      <th></th>\n",
              "      <th>year</th>\n",
              "      <th>geo</th>\n",
              "      <th>age</th>\n",
              "      <th>sex</th>\n",
              "      <th>(ICD-O-3)</th>\n",
              "      <th>characteristics</th>\n",
              "      <th>uom</th>\n",
              "      <th>value</th>\n",
              "    </tr>\n",
              "  </thead>\n",
              "  <tbody>\n",
              "    <tr>\n",
              "      <th>100</th>\n",
              "      <td>2013</td>\n",
              "      <td>Yukon</td>\n",
              "      <td>Total, all ages</td>\n",
              "      <td>Both sexes</td>\n",
              "      <td>Total, all primary sites of cancer [C00.0-C80.9]</td>\n",
              "      <td>Number of new cancer cases</td>\n",
              "      <td>Number</td>\n",
              "      <td>140.0</td>\n",
              "    </tr>\n",
              "    <tr>\n",
              "      <th>101</th>\n",
              "      <td>2014</td>\n",
              "      <td>Yukon</td>\n",
              "      <td>Total, all ages</td>\n",
              "      <td>Both sexes</td>\n",
              "      <td>Total, all primary sites of cancer [C00.0-C80.9]</td>\n",
              "      <td>Number of new cancer cases</td>\n",
              "      <td>Number</td>\n",
              "      <td>130.0</td>\n",
              "    </tr>\n",
              "    <tr>\n",
              "      <th>102</th>\n",
              "      <td>2015</td>\n",
              "      <td>Yukon</td>\n",
              "      <td>Total, all ages</td>\n",
              "      <td>Both sexes</td>\n",
              "      <td>Total, all primary sites of cancer [C00.0-C80.9]</td>\n",
              "      <td>Number of new cancer cases</td>\n",
              "      <td>Number</td>\n",
              "      <td>170.0</td>\n",
              "    </tr>\n",
              "    <tr>\n",
              "      <th>103</th>\n",
              "      <td>2016</td>\n",
              "      <td>Yukon</td>\n",
              "      <td>Total, all ages</td>\n",
              "      <td>Both sexes</td>\n",
              "      <td>Total, all primary sites of cancer [C00.0-C80.9]</td>\n",
              "      <td>Number of new cancer cases</td>\n",
              "      <td>Number</td>\n",
              "      <td>165.0</td>\n",
              "    </tr>\n",
              "    <tr>\n",
              "      <th>104</th>\n",
              "      <td>2017</td>\n",
              "      <td>Yukon</td>\n",
              "      <td>Total, all ages</td>\n",
              "      <td>Both sexes</td>\n",
              "      <td>Total, all primary sites of cancer [C00.0-C80.9]</td>\n",
              "      <td>Number of new cancer cases</td>\n",
              "      <td>Number</td>\n",
              "      <td>155.0</td>\n",
              "    </tr>\n",
              "  </tbody>\n",
              "</table>\n",
              "</div>"
            ],
            "text/plain": [
              "     year    geo              age  ...             characteristics     uom  value\n",
              "100  2013  Yukon  Total, all ages  ...  Number of new cancer cases  Number  140.0\n",
              "101  2014  Yukon  Total, all ages  ...  Number of new cancer cases  Number  130.0\n",
              "102  2015  Yukon  Total, all ages  ...  Number of new cancer cases  Number  170.0\n",
              "103  2016  Yukon  Total, all ages  ...  Number of new cancer cases  Number  165.0\n",
              "104  2017  Yukon  Total, all ages  ...  Number of new cancer cases  Number  155.0\n",
              "\n",
              "[5 rows x 8 columns]"
            ]
          },
          "metadata": {
            "tags": []
          },
          "execution_count": 11
        }
      ]
    },
    {
      "cell_type": "code",
      "metadata": {
        "id": "Uv0_tpdDEMLw",
        "colab_type": "code",
        "colab": {
          "base_uri": "https://localhost:8080/",
          "height": 357
        },
        "outputId": "0aaa051c-3518-4302-901b-daa0a2d334c9"
      },
      "source": [
        "geo_province = (cdn_cancer_2013_2017_df['geo'] != 'Canada (excluding Quebec)') &\\\n",
        "(cdn_cancer_2013_2017_df['uom'] == 'Number')\n",
        "\n",
        "print(cdn_cancer_2013_2017_df[geo_province]['value'].describe())\n",
        "\n",
        "cdn_cancer_2013_2017_df[geo_pe]"
      ],
      "execution_count": 12,
      "outputs": [
        {
          "output_type": "stream",
          "text": [
            "count       60.000000\n",
            "mean     12285.250000\n",
            "std      21089.443689\n",
            "min         65.000000\n",
            "25%        698.750000\n",
            "50%       5137.500000\n",
            "75%       8971.250000\n",
            "max      79670.000000\n",
            "Name: value, dtype: float64\n"
          ],
          "name": "stdout"
        },
        {
          "output_type": "execute_result",
          "data": {
            "text/html": [
              "<div>\n",
              "<style scoped>\n",
              "    .dataframe tbody tr th:only-of-type {\n",
              "        vertical-align: middle;\n",
              "    }\n",
              "\n",
              "    .dataframe tbody tr th {\n",
              "        vertical-align: top;\n",
              "    }\n",
              "\n",
              "    .dataframe thead th {\n",
              "        text-align: right;\n",
              "    }\n",
              "</style>\n",
              "<table border=\"1\" class=\"dataframe\">\n",
              "  <thead>\n",
              "    <tr style=\"text-align: right;\">\n",
              "      <th></th>\n",
              "      <th>year</th>\n",
              "      <th>geo</th>\n",
              "      <th>age</th>\n",
              "      <th>sex</th>\n",
              "      <th>(ICD-O-3)</th>\n",
              "      <th>characteristics</th>\n",
              "      <th>uom</th>\n",
              "      <th>value</th>\n",
              "    </tr>\n",
              "  </thead>\n",
              "  <tbody>\n",
              "    <tr>\n",
              "      <th>20</th>\n",
              "      <td>2013</td>\n",
              "      <td>Prince Edward Island</td>\n",
              "      <td>Total, all ages</td>\n",
              "      <td>Both sexes</td>\n",
              "      <td>Total, all primary sites of cancer [C00.0-C80.9]</td>\n",
              "      <td>Number of new cancer cases</td>\n",
              "      <td>Number</td>\n",
              "      <td>875.0</td>\n",
              "    </tr>\n",
              "    <tr>\n",
              "      <th>21</th>\n",
              "      <td>2014</td>\n",
              "      <td>Prince Edward Island</td>\n",
              "      <td>Total, all ages</td>\n",
              "      <td>Both sexes</td>\n",
              "      <td>Total, all primary sites of cancer [C00.0-C80.9]</td>\n",
              "      <td>Number of new cancer cases</td>\n",
              "      <td>Number</td>\n",
              "      <td>890.0</td>\n",
              "    </tr>\n",
              "    <tr>\n",
              "      <th>22</th>\n",
              "      <td>2015</td>\n",
              "      <td>Prince Edward Island</td>\n",
              "      <td>Total, all ages</td>\n",
              "      <td>Both sexes</td>\n",
              "      <td>Total, all primary sites of cancer [C00.0-C80.9]</td>\n",
              "      <td>Number of new cancer cases</td>\n",
              "      <td>Number</td>\n",
              "      <td>910.0</td>\n",
              "    </tr>\n",
              "    <tr>\n",
              "      <th>23</th>\n",
              "      <td>2016</td>\n",
              "      <td>Prince Edward Island</td>\n",
              "      <td>Total, all ages</td>\n",
              "      <td>Both sexes</td>\n",
              "      <td>Total, all primary sites of cancer [C00.0-C80.9]</td>\n",
              "      <td>Number of new cancer cases</td>\n",
              "      <td>Number</td>\n",
              "      <td>890.0</td>\n",
              "    </tr>\n",
              "    <tr>\n",
              "      <th>24</th>\n",
              "      <td>2017</td>\n",
              "      <td>Prince Edward Island</td>\n",
              "      <td>Total, all ages</td>\n",
              "      <td>Both sexes</td>\n",
              "      <td>Total, all primary sites of cancer [C00.0-C80.9]</td>\n",
              "      <td>Number of new cancer cases</td>\n",
              "      <td>Number</td>\n",
              "      <td>925.0</td>\n",
              "    </tr>\n",
              "  </tbody>\n",
              "</table>\n",
              "</div>"
            ],
            "text/plain": [
              "    year                   geo  ...     uom  value\n",
              "20  2013  Prince Edward Island  ...  Number  875.0\n",
              "21  2014  Prince Edward Island  ...  Number  890.0\n",
              "22  2015  Prince Edward Island  ...  Number  910.0\n",
              "23  2016  Prince Edward Island  ...  Number  890.0\n",
              "24  2017  Prince Edward Island  ...  Number  925.0\n",
              "\n",
              "[5 rows x 8 columns]"
            ]
          },
          "metadata": {
            "tags": []
          },
          "execution_count": 12
        }
      ]
    },
    {
      "cell_type": "code",
      "metadata": {
        "id": "iBsVgGpRELm-",
        "colab_type": "code",
        "colab": {
          "base_uri": "https://localhost:8080/",
          "height": 609
        },
        "outputId": "5869368d-e4cd-40ab-eb03-6be87a045ffd"
      },
      "source": [
        "labels = ['2013', '2014', '2015', '2016', '2017']\n",
        "\n",
        "plt.figure(figsize=(20,10))\n",
        "\n",
        "x = np.arange(len(labels))  # the label locations\n",
        "width = 0.35  # the width of the bars\n",
        "\n",
        "#set bar width\n",
        "barWidth = .05\n",
        "\n",
        "#set bar height\n",
        "geo1 = cdn_cancer_2013_2017_df[geo_pe]['value']\n",
        "geo2 = cdn_cancer_2013_2017_df[geo_sk]['value']\n",
        "geo3 = cdn_cancer_2013_2017_df[geo_nb]['value']\n",
        "geo4 = cdn_cancer_2013_2017_df[geo_nt]['value']\n",
        "geo5 = cdn_cancer_2013_2017_df[geo_nu]['value']\n",
        "geo6 = cdn_cancer_2013_2017_df[geo_mb]['value']\n",
        "geo7 = cdn_cancer_2013_2017_df[geo_ns]['value']\n",
        "geo8 = cdn_cancer_2013_2017_df[geo_nl]['value']\n",
        "geo9 = cdn_cancer_2013_2017_df[geo_bc]['value']\n",
        "geo10 = cdn_cancer_2013_2017_df[geo_ab]['value']\n",
        "geo11 = cdn_cancer_2013_2017_df[geo_yt]['value']\n",
        "\n",
        "#set positon of bar on X axis\n",
        "x = np.arange(len(geo1))\n",
        "x1 = [x + barWidth for x in x]\n",
        "x2 = [x + barWidth for x in x1]\n",
        "x3 = [x + barWidth for x in x2]\n",
        "x4 = [x + barWidth for x in x3]\n",
        "x5 = [x + barWidth for x in x4]\n",
        "x6 = [x + barWidth for x in x5]\n",
        "x7 = [x + barWidth for x in x6]\n",
        "x8 = [x + barWidth for x in x7]\n",
        "x9 = [x + barWidth for x in x8]\n",
        "x10 = [x + barWidth for x in x9]\n",
        "x11 = [x + barWidth for x in x10]\n",
        "\n",
        "plt.bar(x1, geo1, width = barWidth, edgecolor = 'white', color = '#DC9C63', label = 'PE')\n",
        "plt.bar(x2, geo2, width = barWidth, edgecolor = 'white', color = '#D16C68', label = 'SK')\n",
        "plt.bar(x3, geo3, width = barWidth, edgecolor = 'white', color = '#9F989B', label = 'NB')\n",
        "plt.bar(x4, geo4, width = barWidth, edgecolor = 'white', color = '#486E6A', label = 'NT')\n",
        "plt.bar(x5, geo5, width = barWidth, edgecolor = 'white', color = '#838B8D', label = 'NU')\n",
        "plt.bar(x6, geo6, width = barWidth, edgecolor = 'white', color = '#F3DB69', label = 'MB')\n",
        "plt.bar(x7, geo7, width = barWidth, edgecolor = 'white', color = '#956D74', label = 'NS')\n",
        "# plt.bar(r2, geo2, width = barWidth, edgecolor = 'white', color = '#d16c68', label = 'ON')\n",
        "plt.bar(x8, geo8, width = barWidth, edgecolor = 'white', color = '#2A3738', label = 'NL')\n",
        "plt.bar(x9, geo9, width = barWidth, edgecolor = 'white', color = '#2B3137', label = 'BC')\n",
        "plt.bar(x10, geo10, width = barWidth, edgecolor = 'white', color = '#827F38', label = 'AB')\n",
        "plt.bar(x11, geo11, width = barWidth, edgecolor = 'white', color = '#90B1A8', label = 'YT')\n",
        "\n",
        "'''plt.plot(cdn_cancer_2013_2017_df[geo_yt]['year'], cdn_cancer_2013_2017_df[geo_yt]['value'])\n",
        "plt.plot(cdn_cancer_2013_2017_df[geo_ab]['year'], cdn_cancer_2013_2017_df[geo_ab]['value'])\n",
        "plt.plot(cdn_cancer_2013_2017_df[geo_bc]['year'], cdn_cancer_2013_2017_df[geo_bc]['value'])\n",
        "plt.plot(cdn_cancer_2013_2017_df[geo_nl]['year'], cdn_cancer_2013_2017_df[geo_nl]['value'])\n",
        "plt.plot(cdn_cancer_2013_2017_df[geo_ns]['year'], cdn_cancer_2013_2017_df[geo_ns]['value'])\n",
        "plt.plot(cdn_cancer_2013_2017_df[geo_mb]['year'], cdn_cancer_2013_2017_df[geo_mb]['value'])\n",
        "plt.plot(cdn_cancer_2013_2017_df[geo_nu]['year'], cdn_cancer_2013_2017_df[geo_nu]['value'])\n",
        "plt.plot(cdn_cancer_2013_2017_df[geo_nt]['year'], cdn_cancer_2013_2017_df[geo_nt]['value'])\n",
        "plt.plot(cdn_cancer_2013_2017_df[geo_nb]['year'], cdn_cancer_2013_2017_df[geo_nb]['value'])\n",
        "plt.plot(cdn_cancer_2013_2017_df[geo_sk]['year'], cdn_cancer_2013_2017_df[geo_sk]['value'])\n",
        "plt.plot(cdn_cancer_2013_2017_df[geo_pe]['year'], cdn_cancer_2013_2017_df[geo_pe]['value'])'''\n",
        "\n",
        "plt.xlabel('Year', fontweight = 'bold')\n",
        "plt.xticks([r + barWidth for r in range(len(geo1))], cdn_cancer_2013_2017_df['year'])\n",
        "\n",
        "#Create Legend\n",
        "plt.legend()\n",
        "plt.show()"
      ],
      "execution_count": 13,
      "outputs": [
        {
          "output_type": "display_data",
          "data": {
            "image/png": "[encoded data removed]",
            "text/plain": [
              "<Figure size 1440x720 with 1 Axes>"
            ]
          },
          "metadata": {
            "tags": []
          }
        }
      ]
    },
    {
      "cell_type": "code",
      "metadata": {
        "id": "Whpc1hNkHe9N",
        "colab_type": "code",
        "colab": {
          "base_uri": "https://localhost:8080/",
          "height": 483
        },
        "outputId": "737a0563-5fb1-4c42-c20f-a209b66c4831"
      },
      "source": [
        "cancer_numbers = (cdn_cancer_2013_2017_df['uom'] == 'Number')\n",
        "\n",
        "cancer_pivot = cdn_cancer_2013_2017_df[cancer_numbers].pivot_table(index='geo',\n",
        "                                    columns='year',\n",
        "                                    values='value')\n",
        "\n",
        "cancer_pivot"
      ],
      "execution_count": 14,
      "outputs": [
        {
          "output_type": "execute_result",
          "data": {
            "text/html": [
              "<div>\n",
              "<style scoped>\n",
              "    .dataframe tbody tr th:only-of-type {\n",
              "        vertical-align: middle;\n",
              "    }\n",
              "\n",
              "    .dataframe tbody tr th {\n",
              "        vertical-align: top;\n",
              "    }\n",
              "\n",
              "    .dataframe thead th {\n",
              "        text-align: right;\n",
              "    }\n",
              "</style>\n",
              "<table border=\"1\" class=\"dataframe\">\n",
              "  <thead>\n",
              "    <tr style=\"text-align: right;\">\n",
              "      <th>year</th>\n",
              "      <th>2013</th>\n",
              "      <th>2014</th>\n",
              "      <th>2015</th>\n",
              "      <th>2016</th>\n",
              "      <th>2017</th>\n",
              "    </tr>\n",
              "    <tr>\n",
              "      <th>geo</th>\n",
              "      <th></th>\n",
              "      <th></th>\n",
              "      <th></th>\n",
              "      <th></th>\n",
              "      <th></th>\n",
              "    </tr>\n",
              "  </thead>\n",
              "  <tbody>\n",
              "    <tr>\n",
              "      <th>Alberta</th>\n",
              "      <td>16520.0</td>\n",
              "      <td>17770.0</td>\n",
              "      <td>18040.0</td>\n",
              "      <td>18310.0</td>\n",
              "      <td>18150.0</td>\n",
              "    </tr>\n",
              "    <tr>\n",
              "      <th>British Columbia</th>\n",
              "      <td>24300.0</td>\n",
              "      <td>24380.0</td>\n",
              "      <td>24995.0</td>\n",
              "      <td>25060.0</td>\n",
              "      <td>24610.0</td>\n",
              "    </tr>\n",
              "    <tr>\n",
              "      <th>Canada (excluding Quebec)</th>\n",
              "      <td>143115.0</td>\n",
              "      <td>145300.0</td>\n",
              "      <td>148125.0</td>\n",
              "      <td>151150.0</td>\n",
              "      <td>149435.0</td>\n",
              "    </tr>\n",
              "    <tr>\n",
              "      <th>Manitoba</th>\n",
              "      <td>6325.0</td>\n",
              "      <td>6400.0</td>\n",
              "      <td>6425.0</td>\n",
              "      <td>6455.0</td>\n",
              "      <td>6310.0</td>\n",
              "    </tr>\n",
              "    <tr>\n",
              "      <th>New Brunswick</th>\n",
              "      <td>4785.0</td>\n",
              "      <td>4680.0</td>\n",
              "      <td>4755.0</td>\n",
              "      <td>4835.0</td>\n",
              "      <td>4845.0</td>\n",
              "    </tr>\n",
              "    <tr>\n",
              "      <th>Newfoundland and Labrador</th>\n",
              "      <td>3400.0</td>\n",
              "      <td>3560.0</td>\n",
              "      <td>3490.0</td>\n",
              "      <td>3635.0</td>\n",
              "      <td>3540.0</td>\n",
              "    </tr>\n",
              "    <tr>\n",
              "      <th>Northwest Territories</th>\n",
              "      <td>130.0</td>\n",
              "      <td>160.0</td>\n",
              "      <td>140.0</td>\n",
              "      <td>170.0</td>\n",
              "      <td>170.0</td>\n",
              "    </tr>\n",
              "    <tr>\n",
              "      <th>Nova Scotia</th>\n",
              "      <td>6130.0</td>\n",
              "      <td>6095.0</td>\n",
              "      <td>6280.0</td>\n",
              "      <td>6325.0</td>\n",
              "      <td>6005.0</td>\n",
              "    </tr>\n",
              "    <tr>\n",
              "      <th>Nunavut</th>\n",
              "      <td>65.0</td>\n",
              "      <td>65.0</td>\n",
              "      <td>70.0</td>\n",
              "      <td>70.0</td>\n",
              "      <td>85.0</td>\n",
              "    </tr>\n",
              "    <tr>\n",
              "      <th>Ontario</th>\n",
              "      <td>74870.0</td>\n",
              "      <td>75725.0</td>\n",
              "      <td>77375.0</td>\n",
              "      <td>79670.0</td>\n",
              "      <td>79215.0</td>\n",
              "    </tr>\n",
              "    <tr>\n",
              "      <th>Prince Edward Island</th>\n",
              "      <td>875.0</td>\n",
              "      <td>890.0</td>\n",
              "      <td>910.0</td>\n",
              "      <td>890.0</td>\n",
              "      <td>925.0</td>\n",
              "    </tr>\n",
              "    <tr>\n",
              "      <th>Saskatchewan</th>\n",
              "      <td>5565.0</td>\n",
              "      <td>5450.0</td>\n",
              "      <td>5475.0</td>\n",
              "      <td>5555.0</td>\n",
              "      <td>5430.0</td>\n",
              "    </tr>\n",
              "    <tr>\n",
              "      <th>Yukon</th>\n",
              "      <td>140.0</td>\n",
              "      <td>130.0</td>\n",
              "      <td>170.0</td>\n",
              "      <td>165.0</td>\n",
              "      <td>155.0</td>\n",
              "    </tr>\n",
              "  </tbody>\n",
              "</table>\n",
              "</div>"
            ],
            "text/plain": [
              "year                           2013      2014      2015      2016      2017\n",
              "geo                                                                        \n",
              "Alberta                     16520.0   17770.0   18040.0   18310.0   18150.0\n",
              "British Columbia            24300.0   24380.0   24995.0   25060.0   24610.0\n",
              "Canada (excluding Quebec)  143115.0  145300.0  148125.0  151150.0  149435.0\n",
              "Manitoba                     6325.0    6400.0    6425.0    6455.0    6310.0\n",
              "New Brunswick                4785.0    4680.0    4755.0    4835.0    4845.0\n",
              "Newfoundland and Labrador    3400.0    3560.0    3490.0    3635.0    3540.0\n",
              "Northwest Territories         130.0     160.0     140.0     170.0     170.0\n",
              "Nova Scotia                  6130.0    6095.0    6280.0    6325.0    6005.0\n",
              "Nunavut                        65.0      65.0      70.0      70.0      85.0\n",
              "Ontario                     74870.0   75725.0   77375.0   79670.0   79215.0\n",
              "Prince Edward Island          875.0     890.0     910.0     890.0     925.0\n",
              "Saskatchewan                 5565.0    5450.0    5475.0    5555.0    5430.0\n",
              "Yukon                         140.0     130.0     170.0     165.0     155.0"
            ]
          },
          "metadata": {
            "tags": []
          },
          "execution_count": 14
        }
      ]
    },
    {
      "cell_type": "code",
      "metadata": {
        "id": "w3hK-qiyb0zW",
        "colab_type": "code",
        "colab": {
          "base_uri": "https://localhost:8080/",
          "height": 953
        },
        "outputId": "608ea47c-581c-4e0b-b31b-db5a18418bdb"
      },
      "source": [
        "labels = ['2013', '2014', '2015', '2016', '2017']\n",
        "\n",
        "fig2, ax2 = plt.subplots(figsize=(5, 10))\n",
        "\n",
        "fig2.patch.set(facecolor='White') # Background (exterior)\n",
        "ax2.set(facecolor='White') # Axes background (interior)\n",
        "\n",
        "province_data = np.genfromtxt(fname, delimiter=',', names=True)\n",
        "\n",
        "province = ['Alberta', 'British Columbia', 'Manitoba',\n",
        "          'PsNew Brunswick', 'Newfoundland and Labrador', 'Northwest Territories',\n",
        "          'Nova Scotia', 'Nunavut', 'Ontario',\n",
        "          'Prince Edward Island', 'Saskatchewan', 'Yukon']\n",
        "\n",
        "province_data = np.genfromtxt(fname, delimiter=',', names=True)\n",
        "\n",
        "for column in province:\n",
        "    # Plot each line separately with its own color.\n",
        "    column_rec_name = column.replace('\\n', '_').replace(' ', '_')\n",
        "\n",
        "    line, = ax.plot('Year', column_rec_name, data=province_data,\n",
        "                    lw=2.5)\n",
        "\n",
        "    # Add a text label to the right end of every line. Most of the code below\n",
        "    # is adding specific offsets y position because some labels overlapped.\n",
        "    y_pos = province_data[column_rec_name][-1] - 0.5\n",
        "\n",
        "    if column in y_offsets:\n",
        "        y_pos += y_offsets[column]\n",
        "\n",
        "    # Again, make sure that all labels are large enough to be easily read\n",
        "    # by the viewer.\n",
        "    ax.text(2011.5, y_pos, column, fontsize=14, color=line.get_color())\n",
        "\n",
        "#plt.plot(cdn_cancer_2013_2017_df[geo_yt]['year'], cdn_cancer_2013_2017_df[geo_yt]['value'], lw=2.5)\n",
        "#plt.plot(cdn_cancer_2013_2017_df[geo_ab]['year'], cdn_cancer_2013_2017_df[geo_ab]['value'], lw=2.5)\n",
        "#plt.plot(cdn_cancer_2013_2017_df[geo_bc]['year'], cdn_cancer_2013_2017_df[geo_bc]['value'], lw=2.5)\n",
        "#plt.plot(cdn_cancer_2013_2017_df[geo_nl]['year'], cdn_cancer_2013_2017_df[geo_nl]['value'], lw=2.5)\n",
        "#plt.plot(cdn_cancer_2013_2017_df[geo_ns]['year'], cdn_cancer_2013_2017_df[geo_ns]['value'], lw=2.5)\n",
        "#plt.plot(cdn_cancer_2013_2017_df[geo_mb]['year'], cdn_cancer_2013_2017_df[geo_mb]['value'], lw=2.5)\n",
        "#plt.plot(cdn_cancer_2013_2017_df[geo_nu]['year'], cdn_cancer_2013_2017_df[geo_nu]['value'], lw=2.5)\n",
        "#plt.plot(cdn_cancer_2013_2017_df[geo_nt]['year'], cdn_cancer_2013_2017_df[geo_nt]['value'], lw=2.5)\n",
        "#plt.plot(cdn_cancer_2013_2017_df[geo_nb]['year'], cdn_cancer_2013_2017_df[geo_nb]['value'], lw=2.5)\n",
        "#plt.plot(cdn_cancer_2013_2017_df[geo_sk]['year'], cdn_cancer_2013_2017_df[geo_sk]['value'], lw=2.5)\n",
        "#plt.plot(cdn_cancer_2013_2017_df[geo_pe]['year'], cdn_cancer_2013_2017_df[geo_pe]['value'], lw=2.5)\n",
        "\n",
        "ax2.get_xaxis().tick_bottom()\n",
        "ax2.get_yaxis().tick_left()\n",
        "\n",
        "ax2.set_xticks(range(2013, 2018, 1))\n",
        "ax2.set_yticks(range(0, 30000, 5000))\n",
        "ax2.xaxis.set_major_formatter(plt.FuncFormatter('{:.0f}'.format))\n",
        "ax2.yaxis.set_major_formatter(plt.FuncFormatter('{:.0f}'.format))\n",
        "\n",
        "ax2.tick_params(axis='both', which='both', labelsize=14,\n",
        "               bottom=False, top=False, labelbottom=True,\n",
        "               left=False, right=False, labelleft=True)\n",
        "\n",
        "ax2.grid(True, 'major', 'y', ls='--', lw=1, c='k', alpha=.3)\n",
        "\n",
        "ax2.spines['left'].set_visible(True)\n",
        "ax2.spines['right'].set_visible(True)\n",
        "ax2.spines['top'].set_visible(True)\n",
        "ax2.spines['bottom'].set_visible(True)\n",
        "\n",
        "fig2.suptitle('Cancer incidence by porovince (2013-2017)\\n', fontsize=15, ha='center')\n",
        "\n",
        "#Create Legend\n",
        "fig2.legend()\n",
        "fig2.show()"
      ],
      "execution_count": 15,
      "outputs": [
        {
          "output_type": "error",
          "ename": "OSError",
          "evalue": "ignored",
          "traceback": [
            "\u001b[0;31m---------------------------------------------------------------------------\u001b[0m",
            "\u001b[0;31mOSError\u001b[0m                                   Traceback (most recent call last)",
            "\u001b[0;32m<ipython-input-15-53054d0321de>\u001b[0m in \u001b[0;36m<module>\u001b[0;34m()\u001b[0m\n\u001b[1;32m      9\u001b[0m \u001b[0;34m\u001b[0m\u001b[0m\n\u001b[1;32m     10\u001b[0m \u001b[0mfname\u001b[0m \u001b[0;34m=\u001b[0m \u001b[0mget_sample_data\u001b[0m\u001b[0;34m(\u001b[0m\u001b[0;34m'https://github.com/Vanagand/DS-Unit-1-Build/raw/master/cdn_cancer_2013_2017.csv'\u001b[0m\u001b[0;34m,\u001b[0m \u001b[0masfileobj\u001b[0m\u001b[0;34m=\u001b[0m\u001b[0;32mFalse\u001b[0m\u001b[0;34m)\u001b[0m\u001b[0;34m\u001b[0m\u001b[0;34m\u001b[0m\u001b[0m\n\u001b[0;32m---> 11\u001b[0;31m \u001b[0mprovince_data\u001b[0m \u001b[0;34m=\u001b[0m \u001b[0mnp\u001b[0m\u001b[0;34m.\u001b[0m\u001b[0mgenfromtxt\u001b[0m\u001b[0;34m(\u001b[0m\u001b[0mfname\u001b[0m\u001b[0;34m,\u001b[0m \u001b[0mdelimiter\u001b[0m\u001b[0;34m=\u001b[0m\u001b[0;34m','\u001b[0m\u001b[0;34m,\u001b[0m \u001b[0mnames\u001b[0m\u001b[0;34m=\u001b[0m\u001b[0;32mTrue\u001b[0m\u001b[0;34m)\u001b[0m\u001b[0;34m\u001b[0m\u001b[0;34m\u001b[0m\u001b[0m\n\u001b[0m\u001b[1;32m     12\u001b[0m \u001b[0;34m\u001b[0m\u001b[0m\n\u001b[1;32m     13\u001b[0m province = ['Alberta', 'British Columbia', 'Manitoba',\n",
            "\u001b[0;32m/usr/local/lib/python3.6/dist-packages/numpy/lib/npyio.py\u001b[0m in \u001b[0;36mgenfromtxt\u001b[0;34m(fname, dtype, comments, delimiter, skip_header, skip_footer, converters, missing_values, filling_values, usecols, names, excludelist, deletechars, replace_space, autostrip, case_sensitive, defaultfmt, unpack, usemask, loose, invalid_raise, max_rows, encoding)\u001b[0m\n\u001b[1;32m   1757\u001b[0m             \u001b[0mfname\u001b[0m \u001b[0;34m=\u001b[0m \u001b[0mos_fspath\u001b[0m\u001b[0;34m(\u001b[0m\u001b[0mfname\u001b[0m\u001b[0;34m)\u001b[0m\u001b[0;34m\u001b[0m\u001b[0;34m\u001b[0m\u001b[0m\n\u001b[1;32m   1758\u001b[0m         \u001b[0;32mif\u001b[0m \u001b[0misinstance\u001b[0m\u001b[0;34m(\u001b[0m\u001b[0mfname\u001b[0m\u001b[0;34m,\u001b[0m \u001b[0mbasestring\u001b[0m\u001b[0;34m)\u001b[0m\u001b[0;34m:\u001b[0m\u001b[0;34m\u001b[0m\u001b[0;34m\u001b[0m\u001b[0m\n\u001b[0;32m-> 1759\u001b[0;31m             \u001b[0mfid\u001b[0m \u001b[0;34m=\u001b[0m \u001b[0mnp\u001b[0m\u001b[0;34m.\u001b[0m\u001b[0mlib\u001b[0m\u001b[0;34m.\u001b[0m\u001b[0m_datasource\u001b[0m\u001b[0;34m.\u001b[0m\u001b[0mopen\u001b[0m\u001b[0;34m(\u001b[0m\u001b[0mfname\u001b[0m\u001b[0;34m,\u001b[0m \u001b[0;34m'rt'\u001b[0m\u001b[0;34m,\u001b[0m \u001b[0mencoding\u001b[0m\u001b[0;34m=\u001b[0m\u001b[0mencoding\u001b[0m\u001b[0;34m)\u001b[0m\u001b[0;34m\u001b[0m\u001b[0;34m\u001b[0m\u001b[0m\n\u001b[0m\u001b[1;32m   1760\u001b[0m             \u001b[0mfid_ctx\u001b[0m \u001b[0;34m=\u001b[0m \u001b[0mcontextlib\u001b[0m\u001b[0;34m.\u001b[0m\u001b[0mclosing\u001b[0m\u001b[0;34m(\u001b[0m\u001b[0mfid\u001b[0m\u001b[0;34m)\u001b[0m\u001b[0;34m\u001b[0m\u001b[0;34m\u001b[0m\u001b[0m\n\u001b[1;32m   1761\u001b[0m         \u001b[0;32melse\u001b[0m\u001b[0;34m:\u001b[0m\u001b[0;34m\u001b[0m\u001b[0;34m\u001b[0m\u001b[0m\n",
            "\u001b[0;32m/usr/local/lib/python3.6/dist-packages/numpy/lib/_datasource.py\u001b[0m in \u001b[0;36mopen\u001b[0;34m(path, mode, destpath, encoding, newline)\u001b[0m\n\u001b[1;32m    267\u001b[0m \u001b[0;34m\u001b[0m\u001b[0m\n\u001b[1;32m    268\u001b[0m     \u001b[0mds\u001b[0m \u001b[0;34m=\u001b[0m \u001b[0mDataSource\u001b[0m\u001b[0;34m(\u001b[0m\u001b[0mdestpath\u001b[0m\u001b[0;34m)\u001b[0m\u001b[0;34m\u001b[0m\u001b[0;34m\u001b[0m\u001b[0m\n\u001b[0;32m--> 269\u001b[0;31m     \u001b[0;32mreturn\u001b[0m \u001b[0mds\u001b[0m\u001b[0;34m.\u001b[0m\u001b[0mopen\u001b[0m\u001b[0;34m(\u001b[0m\u001b[0mpath\u001b[0m\u001b[0;34m,\u001b[0m \u001b[0mmode\u001b[0m\u001b[0;34m,\u001b[0m \u001b[0mencoding\u001b[0m\u001b[0;34m=\u001b[0m\u001b[0mencoding\u001b[0m\u001b[0;34m,\u001b[0m \u001b[0mnewline\u001b[0m\u001b[0;34m=\u001b[0m\u001b[0mnewline\u001b[0m\u001b[0;34m)\u001b[0m\u001b[0;34m\u001b[0m\u001b[0;34m\u001b[0m\u001b[0m\n\u001b[0m\u001b[1;32m    270\u001b[0m \u001b[0;34m\u001b[0m\u001b[0m\n\u001b[1;32m    271\u001b[0m \u001b[0;34m\u001b[0m\u001b[0m\n",
            "\u001b[0;32m/usr/local/lib/python3.6/dist-packages/numpy/lib/_datasource.py\u001b[0m in \u001b[0;36mopen\u001b[0;34m(self, path, mode, encoding, newline)\u001b[0m\n\u001b[1;32m    621\u001b[0m                                       encoding=encoding, newline=newline)\n\u001b[1;32m    622\u001b[0m         \u001b[0;32melse\u001b[0m\u001b[0;34m:\u001b[0m\u001b[0;34m\u001b[0m\u001b[0;34m\u001b[0m\u001b[0m\n\u001b[0;32m--> 623\u001b[0;31m             \u001b[0;32mraise\u001b[0m \u001b[0mIOError\u001b[0m\u001b[0;34m(\u001b[0m\u001b[0;34m\"%s not found.\"\u001b[0m \u001b[0;34m%\u001b[0m \u001b[0mpath\u001b[0m\u001b[0;34m)\u001b[0m\u001b[0;34m\u001b[0m\u001b[0;34m\u001b[0m\u001b[0m\n\u001b[0m\u001b[1;32m    624\u001b[0m \u001b[0;34m\u001b[0m\u001b[0m\n\u001b[1;32m    625\u001b[0m \u001b[0;34m\u001b[0m\u001b[0m\n",
            "\u001b[0;31mOSError\u001b[0m: /usr/local/lib/python3.6/dist-packages/matplotlib/mpl-data/sample_data/https://github.com/Vanagand/DS-Unit-1-Build/raw/master/cdn_cancer_2013_2017.csv not found."
          ]
        },
        {
          "output_type": "display_data",
          "data": {
            "image/png": "[encoded data removed]",
            "text/plain": [
              "<Figure size 360x720 with 1 Axes>"
            ]
          },
          "metadata": {
            "tags": []
          }
        }
      ]
    },
    {
      "cell_type": "markdown",
      "metadata": {
        "id": "JMJQgsQgZe61",
        "colab_type": "text"
      },
      "source": [
        "#CDN aggricultural land percentage dataframe"
      ]
    },
    {
      "cell_type": "code",
      "metadata": {
        "id": "t35ctVAhZ9Xe",
        "colab_type": "code",
        "colab": {
          "base_uri": "https://localhost:8080/",
          "height": 204
        },
        "outputId": "bf8f1177-f80c-4094-a515-d7befd5f3559"
      },
      "source": [
        "cdn_agri_pct_df = pd.read_csv('https://github.com/Vanagand/DS-Unit-1-Build/raw/master/cdn_agri_land.csv')\n",
        "\n",
        "cdn_agri_pct_df.head()"
      ],
      "execution_count": 19,
      "outputs": [
        {
          "output_type": "execute_result",
          "data": {
            "text/html": [
              "<div>\n",
              "<style scoped>\n",
              "    .dataframe tbody tr th:only-of-type {\n",
              "        vertical-align: middle;\n",
              "    }\n",
              "\n",
              "    .dataframe tbody tr th {\n",
              "        vertical-align: top;\n",
              "    }\n",
              "\n",
              "    .dataframe thead th {\n",
              "        text-align: right;\n",
              "    }\n",
              "</style>\n",
              "<table border=\"1\" class=\"dataframe\">\n",
              "  <thead>\n",
              "    <tr style=\"text-align: right;\">\n",
              "      <th></th>\n",
              "      <th>year</th>\n",
              "      <th>value</th>\n",
              "    </tr>\n",
              "  </thead>\n",
              "  <tbody>\n",
              "    <tr>\n",
              "      <th>0</th>\n",
              "      <td>1961</td>\n",
              "      <td>7.67855</td>\n",
              "    </tr>\n",
              "    <tr>\n",
              "      <th>1</th>\n",
              "      <td>1962</td>\n",
              "      <td>7.69263</td>\n",
              "    </tr>\n",
              "    <tr>\n",
              "      <th>2</th>\n",
              "      <td>1963</td>\n",
              "      <td>7.70671</td>\n",
              "    </tr>\n",
              "    <tr>\n",
              "      <th>3</th>\n",
              "      <td>1964</td>\n",
              "      <td>7.72067</td>\n",
              "    </tr>\n",
              "    <tr>\n",
              "      <th>4</th>\n",
              "      <td>1965</td>\n",
              "      <td>7.73486</td>\n",
              "    </tr>\n",
              "  </tbody>\n",
              "</table>\n",
              "</div>"
            ],
            "text/plain": [
              "   year    value\n",
              "0  1961  7.67855\n",
              "1  1962  7.69263\n",
              "2  1963  7.70671\n",
              "3  1964  7.72067\n",
              "4  1965  7.73486"
            ]
          },
          "metadata": {
            "tags": []
          },
          "execution_count": 19
        }
      ]
    },
    {
      "cell_type": "markdown",
      "metadata": {
        "id": "R1CKgYj0Zj2J",
        "colab_type": "text"
      },
      "source": [
        "#CDN farm amount dataframe"
      ]
    },
    {
      "cell_type": "code",
      "metadata": {
        "id": "D-E4QI_yZeXI",
        "colab_type": "code",
        "colab": {
          "base_uri": "https://localhost:8080/",
          "height": 204
        },
        "outputId": "123bcc48-840b-4345-e3cd-7719838751a6"
      },
      "source": [
        "cdn_farm_df = pd.read_csv('https://github.com/Vanagand/DS-Unit-1-Build/raw/master/cdn_total_farm.csv')\n",
        "\n",
        "cdn_farm_df.head()"
      ],
      "execution_count": 20,
      "outputs": [
        {
          "output_type": "execute_result",
          "data": {
            "text/html": [
              "<div>\n",
              "<style scoped>\n",
              "    .dataframe tbody tr th:only-of-type {\n",
              "        vertical-align: middle;\n",
              "    }\n",
              "\n",
              "    .dataframe tbody tr th {\n",
              "        vertical-align: top;\n",
              "    }\n",
              "\n",
              "    .dataframe thead th {\n",
              "        text-align: right;\n",
              "    }\n",
              "</style>\n",
              "<table border=\"1\" class=\"dataframe\">\n",
              "  <thead>\n",
              "    <tr style=\"text-align: right;\">\n",
              "      <th></th>\n",
              "      <th>date</th>\n",
              "      <th>geo</th>\n",
              "      <th>farm_class</th>\n",
              "      <th>uom</th>\n",
              "      <th>value</th>\n",
              "    </tr>\n",
              "  </thead>\n",
              "  <tbody>\n",
              "    <tr>\n",
              "      <th>0</th>\n",
              "      <td>2011</td>\n",
              "      <td>Canada</td>\n",
              "      <td>Total number of farms</td>\n",
              "      <td>number</td>\n",
              "      <td>205730</td>\n",
              "    </tr>\n",
              "    <tr>\n",
              "      <th>1</th>\n",
              "      <td>2016</td>\n",
              "      <td>Canada</td>\n",
              "      <td>Total number of farms</td>\n",
              "      <td>number</td>\n",
              "      <td>193492</td>\n",
              "    </tr>\n",
              "    <tr>\n",
              "      <th>2</th>\n",
              "      <td>2011</td>\n",
              "      <td>Canada</td>\n",
              "      <td>Farms under 10 acres</td>\n",
              "      <td>number</td>\n",
              "      <td>12991</td>\n",
              "    </tr>\n",
              "    <tr>\n",
              "      <th>3</th>\n",
              "      <td>2016</td>\n",
              "      <td>Canada</td>\n",
              "      <td>Farms under 10 acres</td>\n",
              "      <td>number</td>\n",
              "      <td>13193</td>\n",
              "    </tr>\n",
              "    <tr>\n",
              "      <th>4</th>\n",
              "      <td>2011</td>\n",
              "      <td>Canada</td>\n",
              "      <td>Farms 10 to 69 acres</td>\n",
              "      <td>number</td>\n",
              "      <td>32705</td>\n",
              "    </tr>\n",
              "  </tbody>\n",
              "</table>\n",
              "</div>"
            ],
            "text/plain": [
              "   date     geo             farm_class     uom   value\n",
              "0  2011  Canada  Total number of farms  number  205730\n",
              "1  2016  Canada  Total number of farms  number  193492\n",
              "2  2011  Canada   Farms under 10 acres  number   12991\n",
              "3  2016  Canada   Farms under 10 acres  number   13193\n",
              "4  2011  Canada   Farms 10 to 69 acres  number   32705"
            ]
          },
          "metadata": {
            "tags": []
          },
          "execution_count": 20
        }
      ]
    }
  ]
}